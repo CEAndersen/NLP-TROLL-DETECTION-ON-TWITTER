{
 "cells": [
  {
   "cell_type": "code",
   "execution_count": 8,
   "metadata": {},
   "outputs": [
    {
     "name": "stdout",
     "output_type": "stream",
     "text": [
      "/Users/Pia/Desktop/NLP/LDA\n"
     ]
    }
   ],
   "source": [
    "%cd /Users/Pia/Desktop/NLP/LDA"
   ]
  },
  {
   "cell_type": "code",
   "execution_count": 2,
   "metadata": {},
   "outputs": [],
   "source": [
    "import pandas as pd"
   ]
  },
  {
   "cell_type": "code",
   "execution_count": 37,
   "metadata": {},
   "outputs": [
    {
     "name": "stdout",
     "output_type": "stream",
     "text": [
      "    A                                                  B  WC  Analytic  Clout  \\\n",
      "0   0           #ThingsDoneByMistake kissing auntie lips   4     38.60  99.00   \n",
      "1   8  NickTomaWBRE  Nick  holding  Miners  Trump ral...   9     93.26  50.00   \n",
      "2  18                 mikefdupjourney shenutt  welcome     3     93.26  99.00   \n",
      "3  22   TrumpSuperPAC #AfricanAmericans like JermonMa...  13     97.95  50.00   \n",
      "4  23   AmericanWoman #MAGA#FEMININEAMERICATRUMP#LGBT...  12     93.26  50.00   \n",
      "5  25   HoofHearted TuckerCarlson\\nJRubinBlogger #Big...  12     81.63  79.76   \n",
      "6  31   heal Proof  Mainstream Media  Become  Joke [W...   9     93.26  50.00   \n",
      "7  34   justenoughtrope  turns  come join  party Plus...  10     93.26  97.69   \n",
      "8  36  Trump appears  encourage  owners  take action ...  10     93.26  97.69   \n",
      "9  39  Obama  Trump winning Anything possible  #politics   6     62.04  50.00   \n",
      "\n",
      "   Authentic  Tone  WPS  Sixltr     Dic  ...  SemiC  QMark  Exclam  Dash  \\\n",
      "0       1.00  99.0    4   50.00  100.00  ...      0    0.0     0.0     0   \n",
      "1       4.97  99.0    9   55.56   22.22  ...      0    0.0     0.0     0   \n",
      "2       1.00  99.0    3  100.00   33.33  ...      0    0.0     0.0     0   \n",
      "3      17.46  99.0   13   53.85   53.85  ...      0    0.0     0.0     0   \n",
      "4       1.79  99.0   12   50.00   33.33  ...      0    0.0     0.0     0   \n",
      "5       1.00  99.0   12   58.33   41.67  ...      0    0.0     0.0     0   \n",
      "6       4.97  99.0    9   22.22   66.67  ...      0    0.0     0.0     0   \n",
      "7      43.37  99.0   10   40.00   60.00  ...      0    0.0     0.0     0   \n",
      "8       3.37  99.0   10   40.00   60.00  ...      0    0.0     0.0     0   \n",
      "9       1.00  99.0    6   66.67   66.67  ...      0    0.0     0.0     0   \n",
      "\n",
      "   Quote  Apostro  Parenth  OtherP  Troll  Positive  \n",
      "0    0.0      0.0        0   25.00      1         0  \n",
      "1    0.0      0.0        0    0.00      1         0  \n",
      "2    0.0      0.0        0    0.00      1         0  \n",
      "3    0.0      0.0        0   15.38      1         0  \n",
      "4    0.0      0.0        0   33.33      1         0  \n",
      "5    0.0      0.0        0   41.67      1         0  \n",
      "6    0.0      0.0        0   22.22      1         0  \n",
      "7    0.0      0.0        0   30.00      1         0  \n",
      "8    0.0      0.0        0    0.00      1         0  \n",
      "9    0.0      0.0        0   16.67      1         0  \n",
      "\n",
      "[10 rows x 97 columns]\n"
     ]
    }
   ],
   "source": [
    "\n",
    "d = pd.read_csv(r\"LIWCPosLabel.csv\")\n",
    "print(d[0:10])"
   ]
  },
  {
   "cell_type": "code",
   "execution_count": 6,
   "metadata": {},
   "outputs": [],
   "source": [
    "import re\n",
    "from nltk.stem import WordNetLemmatizer\n",
    "from nltk.corpus import stopwords\n",
    "\n",
    "stop_words = set(stopwords.words(\"english\")) \n",
    "lemmatizer = WordNetLemmatizer()\n",
    "\n",
    "\n",
    "def clean_text(text):\n",
    "    text = re.sub(r'[^\\w\\s]','',text, re.UNICODE)\n",
    "    text = text.lower()\n",
    "    text = [lemmatizer.lemmatize(token) for token in text.split(\" \")]\n",
    "    text = [lemmatizer.lemmatize(token, \"v\") for token in text]\n",
    "    text = [word for word in text if not word in stop_words]\n",
    "    text = \" \".join(text)\n",
    "    return text\n",
    "\n",
    "d['Processed_Reviews'] = d.B.apply(lambda x: clean_text(x))"
   ]
  },
  {
   "cell_type": "code",
   "execution_count": 11,
   "metadata": {},
   "outputs": [
    {
     "data": {
      "text/plain": [
       "11.309035464250455"
      ]
     },
     "execution_count": 11,
     "metadata": {},
     "output_type": "execute_result"
    }
   ],
   "source": [
    "d.Processed_Reviews.apply(lambda x: len(x.split(\" \"))).mean()\n"
   ]
  },
  {
   "cell_type": "code",
   "execution_count": 9,
   "metadata": {},
   "outputs": [
    {
     "ename": "NameError",
     "evalue": "name 'Tokenizer' is not defined",
     "output_type": "error",
     "traceback": [
      "\u001b[0;31m---------------------------------------------------------------------------\u001b[0m",
      "\u001b[0;31mNameError\u001b[0m                                 Traceback (most recent call last)",
      "\u001b[0;32m<ipython-input-9-54537b3e9c2c>\u001b[0m in \u001b[0;36m<module>\u001b[0;34m\u001b[0m\n\u001b[1;32m      1\u001b[0m \u001b[0mmax_features\u001b[0m \u001b[0;34m=\u001b[0m \u001b[0;36m6000\u001b[0m\u001b[0;34m\u001b[0m\u001b[0;34m\u001b[0m\u001b[0m\n\u001b[0;32m----> 2\u001b[0;31m \u001b[0mtokenizer\u001b[0m \u001b[0;34m=\u001b[0m \u001b[0mTokenizer\u001b[0m\u001b[0;34m(\u001b[0m\u001b[0mnum_words\u001b[0m\u001b[0;34m=\u001b[0m\u001b[0mmax_features\u001b[0m\u001b[0;34m)\u001b[0m\u001b[0;34m\u001b[0m\u001b[0;34m\u001b[0m\u001b[0m\n\u001b[0m\u001b[1;32m      3\u001b[0m \u001b[0mtokenizer\u001b[0m\u001b[0;34m.\u001b[0m\u001b[0mfit_on_texts\u001b[0m\u001b[0;34m(\u001b[0m\u001b[0md\u001b[0m\u001b[0;34m[\u001b[0m\u001b[0;34m'Processed_Reviews'\u001b[0m\u001b[0;34m]\u001b[0m\u001b[0;34m)\u001b[0m\u001b[0;34m\u001b[0m\u001b[0;34m\u001b[0m\u001b[0m\n\u001b[1;32m      4\u001b[0m \u001b[0mlist_tokenized_train\u001b[0m \u001b[0;34m=\u001b[0m \u001b[0mtokenizer\u001b[0m\u001b[0;34m.\u001b[0m\u001b[0mtexts_to_sequences\u001b[0m\u001b[0;34m(\u001b[0m\u001b[0md\u001b[0m\u001b[0;34m[\u001b[0m\u001b[0;34m'Processed_Reviews'\u001b[0m\u001b[0;34m]\u001b[0m\u001b[0;34m)\u001b[0m\u001b[0;34m\u001b[0m\u001b[0;34m\u001b[0m\u001b[0m\n",
      "\u001b[0;31mNameError\u001b[0m: name 'Tokenizer' is not defined"
     ]
    }
   ],
   "source": [
    "max_features = 6000\n",
    "tokenizer = Tokenizer(num_words=max_features)\n",
    "tokenizer.fit_on_texts(d['Processed_Reviews'])\n",
    "list_tokenized_train = tokenizer.texts_to_sequences(d['Processed_Reviews'])\n"
   ]
  },
  {
   "cell_type": "code",
   "execution_count": null,
   "metadata": {},
   "outputs": [],
   "source": []
  },
  {
   "cell_type": "code",
   "execution_count": 10,
   "metadata": {},
   "outputs": [
    {
     "name": "stderr",
     "output_type": "stream",
     "text": [
      "Using TensorFlow backend.\n"
     ]
    },
    {
     "ename": "NameError",
     "evalue": "name 'd' is not defined",
     "output_type": "error",
     "traceback": [
      "\u001b[0;31m---------------------------------------------------------------------------\u001b[0m",
      "\u001b[0;31mNameError\u001b[0m                                 Traceback (most recent call last)",
      "\u001b[0;32m<ipython-input-10-fafd16deedd0>\u001b[0m in \u001b[0;36m<module>\u001b[0;34m\u001b[0m\n\u001b[1;32m      9\u001b[0m \u001b[0mmax_features\u001b[0m \u001b[0;34m=\u001b[0m \u001b[0;36m6000\u001b[0m\u001b[0;34m\u001b[0m\u001b[0;34m\u001b[0m\u001b[0m\n\u001b[1;32m     10\u001b[0m \u001b[0mtokenizer\u001b[0m \u001b[0;34m=\u001b[0m \u001b[0mTokenizer\u001b[0m\u001b[0;34m(\u001b[0m\u001b[0mnum_words\u001b[0m\u001b[0;34m=\u001b[0m\u001b[0mmax_features\u001b[0m\u001b[0;34m)\u001b[0m\u001b[0;34m\u001b[0m\u001b[0;34m\u001b[0m\u001b[0m\n\u001b[0;32m---> 11\u001b[0;31m \u001b[0mtokenizer\u001b[0m\u001b[0;34m.\u001b[0m\u001b[0mfit_on_texts\u001b[0m\u001b[0;34m(\u001b[0m\u001b[0md\u001b[0m\u001b[0;34m[\u001b[0m\u001b[0;34m'Processed_Reviews'\u001b[0m\u001b[0;34m]\u001b[0m\u001b[0;34m)\u001b[0m\u001b[0;34m\u001b[0m\u001b[0;34m\u001b[0m\u001b[0m\n\u001b[0m\u001b[1;32m     12\u001b[0m \u001b[0mlist_tokenized_train\u001b[0m \u001b[0;34m=\u001b[0m \u001b[0mtokenizer\u001b[0m\u001b[0;34m.\u001b[0m\u001b[0mtexts_to_sequences\u001b[0m\u001b[0;34m(\u001b[0m\u001b[0md\u001b[0m\u001b[0;34m[\u001b[0m\u001b[0;34m'Processed_Reviews'\u001b[0m\u001b[0;34m]\u001b[0m\u001b[0;34m)\u001b[0m\u001b[0;34m\u001b[0m\u001b[0;34m\u001b[0m\u001b[0m\n\u001b[1;32m     13\u001b[0m \u001b[0;34m\u001b[0m\u001b[0m\n",
      "\u001b[0;31mNameError\u001b[0m: name 'd' is not defined"
     ]
    }
   ],
   "source": [
    "from keras.preprocessing.text import Tokenizer\n",
    "from keras.preprocessing.sequence import pad_sequences\n",
    "from keras.layers import Dense , Input , LSTM , Embedding, Dropout , Activation, GRU, Flatten\n",
    "from keras.layers import Bidirectional, GlobalMaxPool1D\n",
    "from keras.models import Model, Sequential\n",
    "from keras.layers import Convolution1D\n",
    "from keras import initializers, regularizers, constraints, optimizers, layers\n",
    "\n",
    "max_features = 6000\n",
    "tokenizer = Tokenizer(num_words=max_features)\n",
    "tokenizer.fit_on_texts(d['Processed_Reviews'])\n",
    "list_tokenized_train = tokenizer.texts_to_sequences(d['Processed_Reviews'])\n",
    "\n",
    "maxlen = 130\n",
    "X_t = pad_sequences(list_tokenized_train, maxlen=maxlen)\n",
    "y = d['Positive']\n",
    "\n",
    "embed_size = 128\n",
    "model = Sequential()\n",
    "model.add(Embedding(max_features, embed_size))\n",
    "model.add(Bidirectional(LSTM(32, return_sequences = True)))\n",
    "model.add(GlobalMaxPool1D())\n",
    "model.add(Dense(20, activation=\"relu\"))\n",
    "model.add(Dropout(0.05))\n",
    "model.add(Dense(1, activation=\"sigmoid\"))\n",
    "model.compile(loss='binary_crossentropy', optimizer='adam', metrics=['accuracy'])\n",
    "\n",
    "batch_size = 100\n",
    "epochs = 3\n",
    "model.fit(X_t,y, batch_size=batch_size, epochs=epochs, validation_split=0.2)"
   ]
  },
  {
   "cell_type": "code",
   "execution_count": null,
   "metadata": {},
   "outputs": [],
   "source": []
  },
  {
   "cell_type": "code",
   "execution_count": 11,
   "metadata": {},
   "outputs": [],
   "source": [
    "\n",
    "\n",
    "from __future__ import absolute_import, division, print_function, unicode_literals\n",
    "\n",
    "import numpy as np\n",
    "import pandas as pd\n",
    "\n",
    "import tensorflow as tf\n",
    "\n",
    "from tensorflow import feature_column\n",
    "from tensorflow.keras import layers\n",
    "from sklearn.model_selection import train_test_split"
   ]
  },
  {
   "cell_type": "code",
   "execution_count": 12,
   "metadata": {},
   "outputs": [],
   "source": [
    "dataframe = pd.read_csv(r\"LIWCPosLabel.csv\")"
   ]
  },
  {
   "cell_type": "code",
   "execution_count": 13,
   "metadata": {},
   "outputs": [
    {
     "name": "stdout",
     "output_type": "stream",
     "text": [
      "270316 train examples\n",
      "67579 validation examples\n",
      "84474 test examples\n"
     ]
    }
   ],
   "source": [
    "train, test = train_test_split(dataframe, test_size=0.2)\n",
    "train, val = train_test_split(train, test_size=0.2)\n",
    "print(len(train), 'train examples')\n",
    "print(len(val), 'validation examples')\n",
    "print(len(test), 'test examples')"
   ]
  },
  {
   "cell_type": "code",
   "execution_count": 14,
   "metadata": {},
   "outputs": [],
   "source": [
    "# A utility method to create a tf.data dataset from a Pandas Dataframe\n",
    "def df_to_dataset(dataframe, shuffle=True, batch_size=32):\n",
    "  dataframe = dataframe.copy()\n",
    "  labels = dataframe.pop('Troll')\n",
    "  ds = tf.data.Dataset.from_tensor_slices((dict(dataframe), labels))\n",
    "  if shuffle:\n",
    "    ds = ds.shuffle(buffer_size=len(dataframe))\n",
    "  ds = ds.batch(batch_size)\n",
    "  return ds"
   ]
  },
  {
   "cell_type": "code",
   "execution_count": null,
   "metadata": {},
   "outputs": [],
   "source": []
  },
  {
   "cell_type": "code",
   "execution_count": 15,
   "metadata": {},
   "outputs": [],
   "source": [
    "# A utility method to create a feature column\n",
    "# and to transform a batch of data\n",
    "def demo(feature_column):\n",
    "  feature_layer = layers.DenseFeatures(feature_column)\n",
    "  print(feature_layer(example_batch).numpy())"
   ]
  },
  {
   "cell_type": "code",
   "execution_count": 11,
   "metadata": {},
   "outputs": [],
   "source": [
    "feature_columns = []\n",
    "# numeric cols\n",
    "for header in ['WC', 'Analytic', 'Clout', 'Authentic', 'Tone', 'WPS', 'Sixltr', 'Dic', 'SemiC']:\n",
    "  feature_columns.append(feature_column.numeric_column(header))\n"
   ]
  },
  {
   "cell_type": "code",
   "execution_count": 12,
   "metadata": {},
   "outputs": [],
   "source": [
    "feature_layer = tf.keras.layers.DenseFeatures(feature_columns)"
   ]
  },
  {
   "cell_type": "code",
   "execution_count": 13,
   "metadata": {},
   "outputs": [],
   "source": [
    "batch_size = 50\n",
    "train_ds = df_to_dataset(train, batch_size=batch_size)\n",
    "val_ds = df_to_dataset(val, shuffle=False, batch_size=batch_size)\n",
    "test_ds = df_to_dataset(test, shuffle=False, batch_size=batch_size)"
   ]
  },
  {
   "cell_type": "code",
   "execution_count": 14,
   "metadata": {},
   "outputs": [
    {
     "name": "stdout",
     "output_type": "stream",
     "text": [
      "Train on 5407 steps, validate on 1352 steps\n",
      "Epoch 1/10\n",
      "5407/5407 [==============================] - 171s 32ms/step - loss: 0.3747 - acc: 0.8365 - val_loss: 0.3288 - val_acc: 0.8553\n",
      "Epoch 2/10\n",
      "5407/5407 [==============================] - 49s 9ms/step - loss: 0.3308 - acc: 0.8555 - val_loss: 0.3039 - val_acc: 0.8704\n",
      "Epoch 3/10\n",
      "5407/5407 [==============================] - 47s 9ms/step - loss: 0.3094 - acc: 0.8685 - val_loss: 0.3029 - val_acc: 0.8728\n",
      "Epoch 4/10\n",
      "5407/5407 [==============================] - 47s 9ms/step - loss: 0.3021 - acc: 0.8722 - val_loss: 0.2934 - val_acc: 0.8754\n",
      "Epoch 5/10\n",
      "5407/5407 [==============================] - 47s 9ms/step - loss: 0.2968 - acc: 0.8748 - val_loss: 0.2873 - val_acc: 0.8809\n",
      "Epoch 6/10\n",
      "5407/5407 [==============================] - 48s 9ms/step - loss: 0.2939 - acc: 0.8768 - val_loss: 0.2854 - val_acc: 0.8802\n",
      "Epoch 7/10\n",
      "5407/5407 [==============================] - 49s 9ms/step - loss: 0.2913 - acc: 0.8774 - val_loss: 0.2849 - val_acc: 0.8821\n",
      "Epoch 8/10\n",
      "5407/5407 [==============================] - 48s 9ms/step - loss: 0.2898 - acc: 0.8782 - val_loss: 0.2832 - val_acc: 0.8816\n",
      "Epoch 9/10\n",
      "5407/5407 [==============================] - 47s 9ms/step - loss: 0.2879 - acc: 0.8791 - val_loss: 0.2909 - val_acc: 0.8773\n",
      "Epoch 10/10\n",
      "5407/5407 [==============================] - 47s 9ms/step - loss: 0.2865 - acc: 0.8801 - val_loss: 0.2824 - val_acc: 0.8821\n"
     ]
    },
    {
     "data": {
      "text/plain": [
       "<tensorflow.python.keras.callbacks.History at 0x1a4c5d45f8>"
      ]
     },
     "execution_count": 14,
     "metadata": {},
     "output_type": "execute_result"
    }
   ],
   "source": [
    "model = tf.keras.Sequential([\n",
    "  feature_layer,\n",
    "  layers.Dense(128, activation='relu'),\n",
    "  layers.Dense(128, activation='relu'),\n",
    "  layers.Dense(1, activation='sigmoid')\n",
    "])\n",
    "\n",
    "model.compile(optimizer='adam',\n",
    "              loss='binary_crossentropy',\n",
    "              metrics=['accuracy'])\n",
    "\n",
    "model.fit(train_ds,\n",
    "          validation_data=val_ds,\n",
    "          epochs=10)"
   ]
  },
  {
   "cell_type": "code",
   "execution_count": 15,
   "metadata": {},
   "outputs": [
    {
     "name": "stdout",
     "output_type": "stream",
     "text": [
      "1690/1690 [==============================] - 51s 30ms/step - loss: 0.2861 - acc: 0.8785\n",
      "Accuracy 0.8785425\n"
     ]
    }
   ],
   "source": [
    "loss, accuracy = model.evaluate(test_ds)\n",
    "print(\"Accuracy\", accuracy)"
   ]
  },
  {
   "cell_type": "markdown",
   "metadata": {},
   "source": [
    "### Just with tone: "
   ]
  },
  {
   "cell_type": "code",
   "execution_count": 16,
   "metadata": {},
   "outputs": [],
   "source": [
    "feature_columns = []\n",
    "# numeric cols\n",
    "for header in ['Tone']:\n",
    "  feature_columns.append(feature_column.numeric_column(header))"
   ]
  },
  {
   "cell_type": "code",
   "execution_count": 17,
   "metadata": {},
   "outputs": [],
   "source": [
    "feature_layer = tf.keras.layers.DenseFeatures(feature_columns)"
   ]
  },
  {
   "cell_type": "code",
   "execution_count": 18,
   "metadata": {},
   "outputs": [],
   "source": [
    "batch_size = 50\n",
    "train_ds = df_to_dataset(train, batch_size=batch_size)\n",
    "val_ds = df_to_dataset(val, shuffle=False, batch_size=batch_size)\n",
    "test_ds = df_to_dataset(test, shuffle=False, batch_size=batch_size)"
   ]
  },
  {
   "cell_type": "code",
   "execution_count": 19,
   "metadata": {},
   "outputs": [
    {
     "name": "stdout",
     "output_type": "stream",
     "text": [
      "Train on 5407 steps, validate on 1352 steps\n",
      "Epoch 1/10\n",
      "5407/5407 [==============================] - 235s 43ms/step - loss: 0.7021 - acc: 0.5051 - val_loss: 0.6998 - val_acc: 0.5049\n",
      "Epoch 2/10\n",
      "5407/5407 [==============================] - 49s 9ms/step - loss: 0.6929 - acc: 0.5068 - val_loss: 0.6922 - val_acc: 0.5135\n",
      "Epoch 3/10\n",
      "5407/5407 [==============================] - 43s 8ms/step - loss: 0.6924 - acc: 0.5074 - val_loss: 0.6923 - val_acc: 0.5054\n",
      "Epoch 4/10\n",
      "5407/5407 [==============================] - 42s 8ms/step - loss: 0.6924 - acc: 0.5044 - val_loss: 0.6923 - val_acc: 0.5054\n",
      "Epoch 5/10\n",
      "5407/5407 [==============================] - 43s 8ms/step - loss: 0.6924 - acc: 0.5042 - val_loss: 0.6923 - val_acc: 0.5054\n",
      "Epoch 6/10\n",
      "5407/5407 [==============================] - 43s 8ms/step - loss: 0.6924 - acc: 0.5054 - val_loss: 0.6923 - val_acc: 0.5049\n",
      "Epoch 7/10\n",
      "5407/5407 [==============================] - 42s 8ms/step - loss: 0.6924 - acc: 0.5058 - val_loss: 0.6922 - val_acc: 0.5054\n",
      "Epoch 8/10\n",
      "5407/5407 [==============================] - 43s 8ms/step - loss: 0.6924 - acc: 0.5041 - val_loss: 0.6922 - val_acc: 0.5049\n",
      "Epoch 9/10\n",
      "5407/5407 [==============================] - 44s 8ms/step - loss: 0.6924 - acc: 0.5042 - val_loss: 0.6923 - val_acc: 0.5049\n",
      "Epoch 10/10\n",
      "5407/5407 [==============================] - 43s 8ms/step - loss: 0.6924 - acc: 0.5047 - val_loss: 0.6922 - val_acc: 0.5054\n"
     ]
    },
    {
     "data": {
      "text/plain": [
       "<tensorflow.python.keras.callbacks.History at 0x1a43cd3908>"
      ]
     },
     "execution_count": 19,
     "metadata": {},
     "output_type": "execute_result"
    }
   ],
   "source": [
    "model = tf.keras.Sequential([\n",
    "  feature_layer,\n",
    "  layers.Dense(128, activation='relu'),\n",
    "  layers.Dense(128, activation='relu'),\n",
    "  layers.Dense(1, activation='sigmoid')\n",
    "])\n",
    "\n",
    "model.compile(optimizer='adam',\n",
    "              loss='binary_crossentropy',\n",
    "              metrics=['accuracy'])\n",
    "\n",
    "model.fit(train_ds,\n",
    "          validation_data=val_ds,\n",
    "          epochs=10)"
   ]
  },
  {
   "cell_type": "code",
   "execution_count": 20,
   "metadata": {},
   "outputs": [
    {
     "name": "stdout",
     "output_type": "stream",
     "text": [
      "1690/1690 [==============================] - 79s 47ms/step - loss: 0.6925 - acc: 0.5029\n",
      "Accuracy 0.5028648\n"
     ]
    }
   ],
   "source": [
    "loss, accuracy = model.evaluate(test_ds)\n",
    "print(\"Accuracy\", accuracy)"
   ]
  },
  {
   "cell_type": "markdown",
   "metadata": {},
   "source": [
    "### Just with authenticity "
   ]
  },
  {
   "cell_type": "code",
   "execution_count": 21,
   "metadata": {},
   "outputs": [],
   "source": [
    "feature_columns = []\n",
    "# numeric cols\n",
    "for header in ['Authentic']:\n",
    "  feature_columns.append(feature_column.numeric_column(header))"
   ]
  },
  {
   "cell_type": "code",
   "execution_count": 22,
   "metadata": {},
   "outputs": [],
   "source": [
    "feature_layer = tf.keras.layers.DenseFeatures(feature_columns)"
   ]
  },
  {
   "cell_type": "code",
   "execution_count": 23,
   "metadata": {},
   "outputs": [],
   "source": [
    "batch_size = 50\n",
    "train_ds = df_to_dataset(train, batch_size=batch_size)\n",
    "val_ds = df_to_dataset(val, shuffle=False, batch_size=batch_size)\n",
    "test_ds = df_to_dataset(test, shuffle=False, batch_size=batch_size)"
   ]
  },
  {
   "cell_type": "code",
   "execution_count": 24,
   "metadata": {},
   "outputs": [
    {
     "name": "stdout",
     "output_type": "stream",
     "text": [
      "Train on 5407 steps, validate on 1352 steps\n",
      "Epoch 1/10\n",
      "5407/5407 [==============================] - 284s 53ms/step - loss: 0.6910 - acc: 0.5602 - val_loss: 0.6812 - val_acc: 0.5733\n",
      "Epoch 2/10\n",
      "5407/5407 [==============================] - 50s 9ms/step - loss: 0.6815 - acc: 0.5711 - val_loss: 0.6847 - val_acc: 0.5617\n",
      "Epoch 3/10\n",
      "5407/5407 [==============================] - 43s 8ms/step - loss: 0.6799 - acc: 0.5753 - val_loss: 0.6785 - val_acc: 0.5845\n",
      "Epoch 4/10\n",
      "5407/5407 [==============================] - 43s 8ms/step - loss: 0.6787 - acc: 0.5772 - val_loss: 0.6775 - val_acc: 0.5743\n",
      "Epoch 5/10\n",
      "5407/5407 [==============================] - 46s 9ms/step - loss: 0.6783 - acc: 0.5757 - val_loss: 0.6774 - val_acc: 0.5732\n",
      "Epoch 6/10\n",
      "5407/5407 [==============================] - 44s 8ms/step - loss: 0.6780 - acc: 0.5755 - val_loss: 0.6768 - val_acc: 0.5732\n",
      "Epoch 7/10\n",
      "5407/5407 [==============================] - 49s 9ms/step - loss: 0.6778 - acc: 0.5752 - val_loss: 0.6770 - val_acc: 0.5809\n",
      "Epoch 8/10\n",
      "5407/5407 [==============================] - 46s 9ms/step - loss: 0.6777 - acc: 0.5751 - val_loss: 0.6769 - val_acc: 0.5767\n",
      "Epoch 9/10\n",
      "5407/5407 [==============================] - 46s 9ms/step - loss: 0.6774 - acc: 0.5744 - val_loss: 0.6768 - val_acc: 0.5785\n",
      "Epoch 10/10\n",
      "5407/5407 [==============================] - 47s 9ms/step - loss: 0.6764 - acc: 0.5755 - val_loss: 0.6757 - val_acc: 0.5784\n"
     ]
    },
    {
     "data": {
      "text/plain": [
       "<tensorflow.python.keras.callbacks.History at 0x1b689b7e10>"
      ]
     },
     "execution_count": 24,
     "metadata": {},
     "output_type": "execute_result"
    }
   ],
   "source": [
    "model = tf.keras.Sequential([\n",
    "  feature_layer,\n",
    "  layers.Dense(128, activation='relu'),\n",
    "  layers.Dense(128, activation='relu'),\n",
    "  layers.Dense(1, activation='sigmoid')\n",
    "])\n",
    "\n",
    "model.compile(optimizer='adam',\n",
    "              loss='binary_crossentropy',\n",
    "              metrics=['accuracy'])\n",
    "\n",
    "model.fit(train_ds,\n",
    "          validation_data=val_ds,\n",
    "          epochs=10)"
   ]
  },
  {
   "cell_type": "code",
   "execution_count": 25,
   "metadata": {},
   "outputs": [
    {
     "name": "stdout",
     "output_type": "stream",
     "text": [
      "1690/1690 [==============================] - 119s 71ms/step - loss: 0.6762 - acc: 0.5774\n",
      "Accuracy 0.57744396\n"
     ]
    }
   ],
   "source": [
    "loss, accuracy = model.evaluate(test_ds)\n",
    "print(\"Accuracy\", accuracy)"
   ]
  },
  {
   "cell_type": "markdown",
   "metadata": {},
   "source": [
    "### Words caputed by dictionary "
   ]
  },
  {
   "cell_type": "code",
   "execution_count": 26,
   "metadata": {},
   "outputs": [],
   "source": [
    "feature_columns = []\n",
    "# numeric cols\n",
    "for header in ['Dic']:\n",
    "  feature_columns.append(feature_column.numeric_column(header))"
   ]
  },
  {
   "cell_type": "code",
   "execution_count": 27,
   "metadata": {},
   "outputs": [],
   "source": [
    "feature_layer = tf.keras.layers.DenseFeatures(feature_columns)"
   ]
  },
  {
   "cell_type": "code",
   "execution_count": 28,
   "metadata": {},
   "outputs": [],
   "source": [
    "batch_size = 50\n",
    "train_ds = df_to_dataset(train, batch_size=batch_size)\n",
    "val_ds = df_to_dataset(val, shuffle=False, batch_size=batch_size)\n",
    "test_ds = df_to_dataset(test, shuffle=False, batch_size=batch_size)"
   ]
  },
  {
   "cell_type": "code",
   "execution_count": 29,
   "metadata": {},
   "outputs": [
    {
     "name": "stdout",
     "output_type": "stream",
     "text": [
      "Train on 5407 steps, validate on 1352 steps\n",
      "Epoch 1/10\n",
      "5407/5407 [==============================] - 357s 66ms/step - loss: 0.6782 - acc: 0.5746 - val_loss: 0.6846 - val_acc: 0.5910\n",
      "Epoch 2/10\n",
      "5407/5407 [==============================] - 43s 8ms/step - loss: 0.6603 - acc: 0.5940 - val_loss: 0.6607 - val_acc: 0.5934\n",
      "Epoch 3/10\n",
      "5407/5407 [==============================] - 43s 8ms/step - loss: 0.6574 - acc: 0.5970 - val_loss: 0.6556 - val_acc: 0.6101\n",
      "Epoch 4/10\n",
      "5407/5407 [==============================] - 40s 7ms/step - loss: 0.6566 - acc: 0.5991 - val_loss: 0.6562 - val_acc: 0.6013\n",
      "Epoch 5/10\n",
      "5407/5407 [==============================] - 41s 8ms/step - loss: 0.6564 - acc: 0.5997 - val_loss: 0.6548 - val_acc: 0.6009\n",
      "Epoch 6/10\n",
      "5407/5407 [==============================] - 42s 8ms/step - loss: 0.6555 - acc: 0.6009 - val_loss: 0.6545 - val_acc: 0.6101\n",
      "Epoch 7/10\n",
      "5407/5407 [==============================] - 40s 7ms/step - loss: 0.6534 - acc: 0.6018 - val_loss: 0.6513 - val_acc: 0.6144\n",
      "Epoch 8/10\n",
      "5407/5407 [==============================] - 40s 7ms/step - loss: 0.6503 - acc: 0.6086 - val_loss: 0.6472 - val_acc: 0.6255\n",
      "Epoch 9/10\n",
      "5407/5407 [==============================] - 40s 7ms/step - loss: 0.6475 - acc: 0.6134 - val_loss: 0.6463 - val_acc: 0.6020\n",
      "Epoch 10/10\n",
      "5407/5407 [==============================] - 40s 7ms/step - loss: 0.6456 - acc: 0.6141 - val_loss: 0.6431 - val_acc: 0.6199\n"
     ]
    },
    {
     "data": {
      "text/plain": [
       "<tensorflow.python.keras.callbacks.History at 0x1bdea7d9b0>"
      ]
     },
     "execution_count": 29,
     "metadata": {},
     "output_type": "execute_result"
    }
   ],
   "source": [
    "model = tf.keras.Sequential([\n",
    "  feature_layer,\n",
    "  layers.Dense(128, activation='relu'),\n",
    "  layers.Dense(128, activation='relu'),\n",
    "  layers.Dense(1, activation='sigmoid')\n",
    "])\n",
    "\n",
    "model.compile(optimizer='adam',\n",
    "              loss='binary_crossentropy',\n",
    "              metrics=['accuracy'])\n",
    "\n",
    "model.fit(train_ds,\n",
    "          validation_data=val_ds,\n",
    "          epochs=10)"
   ]
  },
  {
   "cell_type": "code",
   "execution_count": 30,
   "metadata": {},
   "outputs": [
    {
     "name": "stdout",
     "output_type": "stream",
     "text": [
      "1690/1690 [==============================] - 123s 73ms/step - loss: 0.6449 - acc: 0.6191\n",
      "Accuracy 0.6191491\n"
     ]
    }
   ],
   "source": [
    "loss, accuracy = model.evaluate(test_ds)\n",
    "print(\"Accuracy\", accuracy)"
   ]
  },
  {
   "cell_type": "markdown",
   "metadata": {},
   "source": [
    "### Just Clout\n",
    "\n",
    "*** \"Higher Clout score is marked by using more we-words and social words and fewer I-words, negations (e.g., no, not), and swear words.\" ***\n",
    "\n",
    "Weiai Xu and Congcong Zhang in Sentiment, richness, authority, and relevance modelof information sharing during social Crises—the case of #MH370 tweets"
   ]
  },
  {
   "cell_type": "code",
   "execution_count": 25,
   "metadata": {},
   "outputs": [],
   "source": [
    "feature_columns = []\n",
    "# numeric cols\n",
    "for header in ['Clout']:\n",
    "  feature_columns.append(feature_column.numeric_column(header))"
   ]
  },
  {
   "cell_type": "code",
   "execution_count": 26,
   "metadata": {},
   "outputs": [],
   "source": [
    "feature_layer = tf.keras.layers.DenseFeatures(feature_columns)"
   ]
  },
  {
   "cell_type": "code",
   "execution_count": 27,
   "metadata": {},
   "outputs": [],
   "source": [
    "batch_size = 50\n",
    "train_ds = df_to_dataset(train, batch_size=batch_size)\n",
    "val_ds = df_to_dataset(val, shuffle=False, batch_size=batch_size)\n",
    "test_ds = df_to_dataset(test, shuffle=False, batch_size=batch_size)"
   ]
  },
  {
   "cell_type": "code",
   "execution_count": 28,
   "metadata": {},
   "outputs": [
    {
     "name": "stdout",
     "output_type": "stream",
     "text": [
      "Train on 5407 steps, validate on 1352 steps\n",
      "Epoch 1/10\n",
      "5407/5407 [==============================] - 260s 48ms/step - loss: 0.5846 - acc: 0.7075 - val_loss: 0.5485 - val_acc: 0.7291\n",
      "Epoch 2/10\n",
      "5407/5407 [==============================] - 50s 9ms/step - loss: 0.5451 - acc: 0.7390 - val_loss: 0.5403 - val_acc: 0.7486\n",
      "Epoch 3/10\n",
      "5407/5407 [==============================] - 48s 9ms/step - loss: 0.5392 - acc: 0.7481 - val_loss: 0.5405 - val_acc: 0.7501\n",
      "Epoch 4/10\n",
      "5407/5407 [==============================] - 45s 8ms/step - loss: 0.5378 - acc: 0.7486 - val_loss: 0.5349 - val_acc: 0.7489\n",
      "Epoch 5/10\n",
      "5407/5407 [==============================] - 44s 8ms/step - loss: 0.5369 - acc: 0.7495 - val_loss: 0.5346 - val_acc: 0.7505\n",
      "Epoch 6/10\n",
      "5407/5407 [==============================] - 45s 8ms/step - loss: 0.5358 - acc: 0.7496 - val_loss: 0.5331 - val_acc: 0.7505\n",
      "Epoch 7/10\n",
      "5407/5407 [==============================] - 45s 8ms/step - loss: 0.5321 - acc: 0.7499 - val_loss: 0.5247 - val_acc: 0.7507\n",
      "Epoch 8/10\n",
      "5407/5407 [==============================] - 45s 8ms/step - loss: 0.5264 - acc: 0.7502 - val_loss: 0.5217 - val_acc: 0.7507\n",
      "Epoch 9/10\n",
      "5407/5407 [==============================] - 47s 9ms/step - loss: 0.5222 - acc: 0.7546 - val_loss: 0.5206 - val_acc: 0.7534\n",
      "Epoch 10/10\n",
      "5407/5407 [==============================] - 51s 9ms/step - loss: 0.5202 - acc: 0.7578 - val_loss: 0.5301 - val_acc: 0.7649\n"
     ]
    },
    {
     "data": {
      "text/plain": [
       "<tensorflow.python.keras.callbacks.History at 0x1d6e91fda0>"
      ]
     },
     "execution_count": 28,
     "metadata": {},
     "output_type": "execute_result"
    }
   ],
   "source": [
    "model = tf.keras.Sequential([\n",
    "  feature_layer,\n",
    "  layers.Dense(128, activation='relu'),\n",
    "  layers.Dense(128, activation='relu'),\n",
    "  layers.Dense(1, activation='sigmoid')\n",
    "])\n",
    "\n",
    "model.compile(optimizer='adam',\n",
    "              loss='binary_crossentropy',\n",
    "              metrics=['accuracy'])\n",
    "\n",
    "model.fit(train_ds,\n",
    "          validation_data=val_ds,\n",
    "          epochs=10)"
   ]
  },
  {
   "cell_type": "code",
   "execution_count": 29,
   "metadata": {},
   "outputs": [
    {
     "name": "stdout",
     "output_type": "stream",
     "text": [
      "1690/1690 [==============================] - 95s 56ms/step - loss: 0.5321 - acc: 0.7624\n",
      "Accuracy 0.76240027\n"
     ]
    }
   ],
   "source": [
    "loss, accuracy = model.evaluate(test_ds)\n",
    "print(\"Accuracy\", accuracy)"
   ]
  },
  {
   "cell_type": "markdown",
   "metadata": {},
   "source": [
    "### Combination: Clout and Tone\n"
   ]
  },
  {
   "cell_type": "code",
   "execution_count": 30,
   "metadata": {},
   "outputs": [],
   "source": [
    "feature_columns = []\n",
    "# numeric cols\n",
    "for header in ['Clout', 'Tone']:\n",
    "  feature_columns.append(feature_column.numeric_column(header))\n"
   ]
  },
  {
   "cell_type": "code",
   "execution_count": 31,
   "metadata": {},
   "outputs": [
    {
     "name": "stdout",
     "output_type": "stream",
     "text": [
      "Train on 5407 steps, validate on 1352 steps\n",
      "Epoch 1/10\n",
      "5407/5407 [==============================] - 348s 64ms/step - loss: 0.5771 - acc: 0.7159 - val_loss: 0.5519 - val_acc: 0.7258\n",
      "Epoch 2/10\n",
      "5407/5407 [==============================] - 49s 9ms/step - loss: 0.5472 - acc: 0.7383 - val_loss: 0.5369 - val_acc: 0.7479\n",
      "Epoch 3/10\n",
      "5407/5407 [==============================] - 46s 8ms/step - loss: 0.5369 - acc: 0.7472 - val_loss: 0.5330 - val_acc: 0.7579\n",
      "Epoch 4/10\n",
      "5407/5407 [==============================] - 45s 8ms/step - loss: 0.5270 - acc: 0.7512 - val_loss: 0.5316 - val_acc: 0.7531\n",
      "Epoch 5/10\n",
      "5407/5407 [==============================] - 47s 9ms/step - loss: 0.5210 - acc: 0.7533 - val_loss: 0.5176 - val_acc: 0.7541\n",
      "Epoch 6/10\n",
      "5407/5407 [==============================] - 48s 9ms/step - loss: 0.5181 - acc: 0.7556 - val_loss: 0.5200 - val_acc: 0.7555\n",
      "Epoch 7/10\n",
      "5407/5407 [==============================] - 49s 9ms/step - loss: 0.5169 - acc: 0.7565 - val_loss: 0.5171 - val_acc: 0.7540\n",
      "Epoch 8/10\n",
      "5407/5407 [==============================] - 49s 9ms/step - loss: 0.5154 - acc: 0.7580 - val_loss: 0.5260 - val_acc: 0.7601\n",
      "Epoch 9/10\n",
      "5407/5407 [==============================] - 48s 9ms/step - loss: 0.5148 - acc: 0.7586 - val_loss: 0.5255 - val_acc: 0.7592\n",
      "Epoch 10/10\n",
      "5407/5407 [==============================] - 47s 9ms/step - loss: 0.5146 - acc: 0.7583 - val_loss: 0.5123 - val_acc: 0.7628\n"
     ]
    },
    {
     "data": {
      "text/plain": [
       "<tensorflow.python.keras.callbacks.History at 0x1e24860a90>"
      ]
     },
     "execution_count": 31,
     "metadata": {},
     "output_type": "execute_result"
    }
   ],
   "source": [
    "feature_layer = tf.keras.layers.DenseFeatures(feature_columns)\n",
    "\n",
    "batch_size = 50\n",
    "train_ds = df_to_dataset(train, batch_size=batch_size)\n",
    "val_ds = df_to_dataset(val, shuffle=False, batch_size=batch_size)\n",
    "test_ds = df_to_dataset(test, shuffle=False, batch_size=batch_size)\n",
    "\n",
    "model = tf.keras.Sequential([\n",
    "  feature_layer,\n",
    "  layers.Dense(128, activation='relu'),\n",
    "  layers.Dense(128, activation='relu'),\n",
    "  layers.Dense(1, activation='sigmoid')\n",
    "])\n",
    "\n",
    "model.compile(optimizer='adam',\n",
    "              loss='binary_crossentropy',\n",
    "              metrics=['accuracy'])\n",
    "\n",
    "model.fit(train_ds,\n",
    "          validation_data=val_ds,\n",
    "          epochs=10)"
   ]
  },
  {
   "cell_type": "code",
   "execution_count": 32,
   "metadata": {},
   "outputs": [
    {
     "name": "stdout",
     "output_type": "stream",
     "text": [
      "1690/1690 [==============================] - 122s 72ms/step - loss: 0.5152 - acc: 0.7614\n",
      "Accuracy 0.7614059\n"
     ]
    }
   ],
   "source": [
    "loss, accuracy = model.evaluate(test_ds)\n",
    "print(\"Accuracy\", accuracy)"
   ]
  },
  {
   "cell_type": "markdown",
   "metadata": {},
   "source": [
    "### Combi Clout and Authenticity "
   ]
  },
  {
   "cell_type": "code",
   "execution_count": 33,
   "metadata": {},
   "outputs": [],
   "source": [
    "feature_columns = []\n",
    "# numeric cols\n",
    "for header in ['Clout', 'Authentic']:\n",
    "  feature_columns.append(feature_column.numeric_column(header))\n"
   ]
  },
  {
   "cell_type": "code",
   "execution_count": 34,
   "metadata": {},
   "outputs": [
    {
     "name": "stdout",
     "output_type": "stream",
     "text": [
      "Train on 5407 steps, validate on 1352 steps\n",
      "Epoch 1/10\n",
      "5407/5407 [==============================] - 392s 72ms/step - loss: 0.5818 - acc: 0.7112 - val_loss: 0.5444 - val_acc: 0.7376\n",
      "Epoch 2/10\n",
      "5407/5407 [==============================] - 49s 9ms/step - loss: 0.5465 - acc: 0.7333 - val_loss: 0.5380 - val_acc: 0.7430\n",
      "Epoch 3/10\n",
      "5407/5407 [==============================] - 45s 8ms/step - loss: 0.5354 - acc: 0.7398 - val_loss: 0.5275 - val_acc: 0.7443\n",
      "Epoch 4/10\n",
      "5407/5407 [==============================] - 46s 8ms/step - loss: 0.5320 - acc: 0.7429 - val_loss: 0.5282 - val_acc: 0.7439\n",
      "Epoch 5/10\n",
      "5407/5407 [==============================] - 44s 8ms/step - loss: 0.5296 - acc: 0.7450 - val_loss: 0.5276 - val_acc: 0.7432\n",
      "Epoch 6/10\n",
      "5407/5407 [==============================] - 44s 8ms/step - loss: 0.5252 - acc: 0.7500 - val_loss: 0.5198 - val_acc: 0.7552\n",
      "Epoch 7/10\n",
      "5407/5407 [==============================] - 44s 8ms/step - loss: 0.5212 - acc: 0.7556 - val_loss: 0.5201 - val_acc: 0.7549\n",
      "Epoch 8/10\n",
      "5407/5407 [==============================] - 44s 8ms/step - loss: 0.5180 - acc: 0.7586 - val_loss: 0.5138 - val_acc: 0.7673\n",
      "Epoch 9/10\n",
      "5407/5407 [==============================] - 44s 8ms/step - loss: 0.5156 - acc: 0.7601 - val_loss: 0.5118 - val_acc: 0.7658\n",
      "Epoch 10/10\n",
      "5407/5407 [==============================] - 45s 8ms/step - loss: 0.5136 - acc: 0.7609 - val_loss: 0.5241 - val_acc: 0.7597\n"
     ]
    },
    {
     "data": {
      "text/plain": [
       "<tensorflow.python.keras.callbacks.History at 0x1e7b481e10>"
      ]
     },
     "execution_count": 34,
     "metadata": {},
     "output_type": "execute_result"
    }
   ],
   "source": [
    "feature_layer = tf.keras.layers.DenseFeatures(feature_columns)\n",
    "\n",
    "batch_size = 50\n",
    "train_ds = df_to_dataset(train, batch_size=batch_size)\n",
    "val_ds = df_to_dataset(val, shuffle=False, batch_size=batch_size)\n",
    "test_ds = df_to_dataset(test, shuffle=False, batch_size=batch_size)\n",
    "\n",
    "model = tf.keras.Sequential([\n",
    "  feature_layer,\n",
    "  layers.Dense(128, activation='relu'),\n",
    "  layers.Dense(128, activation='relu'),\n",
    "  layers.Dense(1, activation='sigmoid')\n",
    "])\n",
    "\n",
    "model.compile(optimizer='adam',\n",
    "              loss='binary_crossentropy',\n",
    "              metrics=['accuracy'])\n",
    "\n",
    "model.fit(train_ds,\n",
    "          validation_data=val_ds,\n",
    "          epochs=10)"
   ]
  },
  {
   "cell_type": "code",
   "execution_count": 35,
   "metadata": {},
   "outputs": [
    {
     "name": "stdout",
     "output_type": "stream",
     "text": [
      "1690/1690 [==============================] - 154s 91ms/step - loss: 0.5282 - acc: 0.7584\n",
      "Accuracy 0.75837535\n"
     ]
    }
   ],
   "source": [
    "loss, accuracy = model.evaluate(test_ds)\n",
    "print(\"Accuracy\", accuracy)"
   ]
  },
  {
   "cell_type": "markdown",
   "metadata": {},
   "source": [
    "### Combi: Authentic, tone and clout "
   ]
  },
  {
   "cell_type": "code",
   "execution_count": 36,
   "metadata": {},
   "outputs": [],
   "source": [
    "feature_columns = []\n",
    "# numeric cols\n",
    "for header in ['Clout', 'Authentic', \"Tone\"]:\n",
    "  feature_columns.append(feature_column.numeric_column(header))\n"
   ]
  },
  {
   "cell_type": "code",
   "execution_count": 37,
   "metadata": {},
   "outputs": [
    {
     "name": "stdout",
     "output_type": "stream",
     "text": [
      "Train on 5407 steps, validate on 1352 steps\n",
      "Epoch 1/10\n",
      "5407/5407 [==============================] - 557s 103ms/step - loss: 0.5758 - acc: 0.7153 - val_loss: 0.5464 - val_acc: 0.7391\n",
      "Epoch 2/10\n",
      "5407/5407 [==============================] - 50s 9ms/step - loss: 0.5417 - acc: 0.7376 - val_loss: 0.5335 - val_acc: 0.7439\n",
      "Epoch 3/10\n",
      "5407/5407 [==============================] - 45s 8ms/step - loss: 0.5299 - acc: 0.7465 - val_loss: 0.5222 - val_acc: 0.7470\n",
      "Epoch 4/10\n",
      "5407/5407 [==============================] - 47s 9ms/step - loss: 0.5200 - acc: 0.7542 - val_loss: 0.5109 - val_acc: 0.7583\n",
      "Epoch 5/10\n",
      "5407/5407 [==============================] - 44s 8ms/step - loss: 0.5149 - acc: 0.7573 - val_loss: 0.5133 - val_acc: 0.7519\n",
      "Epoch 6/10\n",
      "5407/5407 [==============================] - 48s 9ms/step - loss: 0.5122 - acc: 0.7584 - val_loss: 0.5070 - val_acc: 0.7614\n",
      "Epoch 7/10\n",
      "5407/5407 [==============================] - 45s 8ms/step - loss: 0.5098 - acc: 0.7590 - val_loss: 0.5084 - val_acc: 0.7579\n",
      "Epoch 8/10\n",
      "5407/5407 [==============================] - 44s 8ms/step - loss: 0.5086 - acc: 0.7596 - val_loss: 0.5095 - val_acc: 0.7554\n",
      "Epoch 9/10\n",
      "5407/5407 [==============================] - 44s 8ms/step - loss: 0.5084 - acc: 0.7595 - val_loss: 0.5052 - val_acc: 0.7608\n",
      "Epoch 10/10\n",
      "5407/5407 [==============================] - 44s 8ms/step - loss: 0.5061 - acc: 0.7612 - val_loss: 0.5051 - val_acc: 0.7623\n"
     ]
    },
    {
     "data": {
      "text/plain": [
       "<tensorflow.python.keras.callbacks.History at 0x1d203811d0>"
      ]
     },
     "execution_count": 37,
     "metadata": {},
     "output_type": "execute_result"
    }
   ],
   "source": [
    "feature_layer = tf.keras.layers.DenseFeatures(feature_columns)\n",
    "\n",
    "batch_size = 50\n",
    "train_ds = df_to_dataset(train, batch_size=batch_size)\n",
    "val_ds = df_to_dataset(val, shuffle=False, batch_size=batch_size)\n",
    "test_ds = df_to_dataset(test, shuffle=False, batch_size=batch_size)\n",
    "\n",
    "model = tf.keras.Sequential([\n",
    "  feature_layer,\n",
    "  layers.Dense(128, activation='relu'),\n",
    "  layers.Dense(128, activation='relu'),\n",
    "  layers.Dense(1, activation='sigmoid')\n",
    "])\n",
    "\n",
    "model.compile(optimizer='adam',\n",
    "              loss='binary_crossentropy',\n",
    "              metrics=['accuracy'])\n",
    "\n",
    "model.fit(train_ds,\n",
    "          validation_data=val_ds,\n",
    "          epochs=10)"
   ]
  },
  {
   "cell_type": "code",
   "execution_count": 38,
   "metadata": {},
   "outputs": [
    {
     "name": "stdout",
     "output_type": "stream",
     "text": [
      "1690/1690 [==============================] - 206s 122ms/step - loss: 0.5086 - acc: 0.7605\n",
      "Accuracy 0.7604707\n"
     ]
    }
   ],
   "source": [
    "loss, accuracy = model.evaluate(test_ds)\n",
    "print(\"Accuracy\", accuracy)"
   ]
  },
  {
   "cell_type": "markdown",
   "metadata": {},
   "source": [
    "### Just analytic "
   ]
  },
  {
   "cell_type": "code",
   "execution_count": 8,
   "metadata": {},
   "outputs": [
    {
     "name": "stdout",
     "output_type": "stream",
     "text": [
      "WARNING:tensorflow:From /Users/Pia/anaconda3/lib/python3.7/site-packages/tensorflow_core/python/ops/resource_variable_ops.py:1630: calling BaseResourceVariable.__init__ (from tensorflow.python.ops.resource_variable_ops) with constraint is deprecated and will be removed in a future version.\n",
      "Instructions for updating:\n",
      "If using Keras pass *_constraint arguments to layers.\n",
      "WARNING:tensorflow:From /Users/Pia/anaconda3/lib/python3.7/site-packages/tensorflow_core/python/ops/nn_impl.py:183: where (from tensorflow.python.ops.array_ops) is deprecated and will be removed in a future version.\n",
      "Instructions for updating:\n",
      "Use tf.where in 2.0, which has the same broadcast rule as np.where\n",
      "Train on 5407 steps, validate on 1352 steps\n",
      "Epoch 1/10\n",
      "5407/5407 [==============================] - 71s 13ms/step - loss: 0.7107 - acc: 0.5079 - val_loss: 0.6923 - val_acc: 0.5253\n",
      "Epoch 2/10\n",
      "5407/5407 [==============================] - 51s 9ms/step - loss: 0.6933 - acc: 0.5164 - val_loss: 0.6908 - val_acc: 0.5311\n",
      "Epoch 3/10\n",
      "5407/5407 [==============================] - 50s 9ms/step - loss: 0.6915 - acc: 0.5205 - val_loss: 0.6904 - val_acc: 0.5366\n",
      "Epoch 4/10\n",
      "5407/5407 [==============================] - 52s 10ms/step - loss: 0.6908 - acc: 0.5253 - val_loss: 0.6898 - val_acc: 0.5311\n",
      "Epoch 5/10\n",
      "5407/5407 [==============================] - 51s 9ms/step - loss: 0.6903 - acc: 0.5259 - val_loss: 0.6897 - val_acc: 0.5379\n",
      "Epoch 6/10\n",
      "5407/5407 [==============================] - 44s 8ms/step - loss: 0.6901 - acc: 0.5252 - val_loss: 0.6894 - val_acc: 0.5320\n",
      "Epoch 7/10\n",
      "5407/5407 [==============================] - 43s 8ms/step - loss: 0.6899 - acc: 0.5260 - val_loss: 0.6893 - val_acc: 0.5308\n",
      "Epoch 8/10\n",
      "5407/5407 [==============================] - 42s 8ms/step - loss: 0.6898 - acc: 0.5261 - val_loss: 0.6896 - val_acc: 0.5488\n",
      "Epoch 9/10\n",
      "5407/5407 [==============================] - 57s 11ms/step - loss: 0.6898 - acc: 0.5269 - val_loss: 0.6894 - val_acc: 0.5297\n",
      "Epoch 10/10\n",
      "5407/5407 [==============================] - 75s 14ms/step - loss: 0.6897 - acc: 0.5274 - val_loss: 0.6893 - val_acc: 0.5301\n"
     ]
    },
    {
     "data": {
      "text/plain": [
       "<tensorflow.python.keras.callbacks.History at 0x1a3b43a828>"
      ]
     },
     "execution_count": 8,
     "metadata": {},
     "output_type": "execute_result"
    }
   ],
   "source": [
    "feature_columns = []\n",
    "# numeric cols\n",
    "for header in ['Analytic']:\n",
    "  feature_columns.append(feature_column.numeric_column(header))\n",
    "\n",
    "feature_layer = tf.keras.layers.DenseFeatures(feature_columns)\n",
    "\n",
    "batch_size = 50\n",
    "train_ds = df_to_dataset(train, batch_size=batch_size)\n",
    "val_ds = df_to_dataset(val, shuffle=False, batch_size=batch_size)\n",
    "test_ds = df_to_dataset(test, shuffle=False, batch_size=batch_size)\n",
    "\n",
    "model = tf.keras.Sequential([\n",
    "  feature_layer,\n",
    "  layers.Dense(128, activation='relu'),\n",
    "  layers.Dense(128, activation='relu'),\n",
    "  layers.Dense(1, activation='sigmoid')\n",
    "])\n",
    "\n",
    "model.compile(optimizer='adam',\n",
    "              loss='binary_crossentropy',\n",
    "              metrics=['accuracy'])\n",
    "\n",
    "model.fit(train_ds,\n",
    "          validation_data=val_ds,\n",
    "          epochs=10)"
   ]
  },
  {
   "cell_type": "code",
   "execution_count": 9,
   "metadata": {},
   "outputs": [
    {
     "name": "stdout",
     "output_type": "stream",
     "text": [
      "1690/1690 [==============================] - 18s 11ms/step - loss: 0.6904 - acc: 0.5258\n",
      "Accuracy 0.5258068\n"
     ]
    }
   ],
   "source": [
    "loss, accuracy = model.evaluate(test_ds)\n",
    "print(\"Accuracy\", accuracy)"
   ]
  },
  {
   "cell_type": "markdown",
   "metadata": {},
   "source": [
    "### Just WPS "
   ]
  },
  {
   "cell_type": "code",
   "execution_count": 34,
   "metadata": {},
   "outputs": [
    {
     "name": "stdout",
     "output_type": "stream",
     "text": [
      "Train on 5407 steps, validate on 1352 steps\n",
      "Epoch 1/10\n",
      "5407/5407 [==============================] - 468s 87ms/step - loss: 0.4551 - acc: 0.7551 - val_loss: 0.4354 - val_acc: 0.7726\n",
      "Epoch 2/10\n",
      "5407/5407 [==============================] - 52s 10ms/step - loss: 0.4334 - acc: 0.7682 - val_loss: 0.4350 - val_acc: 0.7659\n",
      "Epoch 3/10\n",
      "5407/5407 [==============================] - 47s 9ms/step - loss: 0.4320 - acc: 0.7690 - val_loss: 0.4279 - val_acc: 0.7705\n",
      "Epoch 4/10\n",
      "5407/5407 [==============================] - 45s 8ms/step - loss: 0.4314 - acc: 0.7691 - val_loss: 0.4287 - val_acc: 0.7726\n",
      "Epoch 5/10\n",
      "5407/5407 [==============================] - 45s 8ms/step - loss: 0.4308 - acc: 0.7696 - val_loss: 0.4272 - val_acc: 0.7726\n",
      "Epoch 6/10\n",
      "5407/5407 [==============================] - 45s 8ms/step - loss: 0.4308 - acc: 0.7690 - val_loss: 0.4271 - val_acc: 0.7726\n",
      "Epoch 7/10\n",
      "5407/5407 [==============================] - 45s 8ms/step - loss: 0.4305 - acc: 0.7698 - val_loss: 0.4292 - val_acc: 0.7705\n",
      "Epoch 8/10\n",
      "5407/5407 [==============================] - 45s 8ms/step - loss: 0.4307 - acc: 0.7692 - val_loss: 0.4278 - val_acc: 0.7726\n",
      "Epoch 9/10\n",
      "5407/5407 [==============================] - 49s 9ms/step - loss: 0.4303 - acc: 0.7696 - val_loss: 0.4275 - val_acc: 0.7726\n",
      "Epoch 10/10\n",
      "5407/5407 [==============================] - 45s 8ms/step - loss: 0.4302 - acc: 0.7695 - val_loss: 0.4287 - val_acc: 0.7705\n"
     ]
    },
    {
     "data": {
      "text/plain": [
       "<tensorflow.python.keras.callbacks.History at 0x1d0c5f0860>"
      ]
     },
     "execution_count": 34,
     "metadata": {},
     "output_type": "execute_result"
    }
   ],
   "source": [
    "feature_columns = []\n",
    "# numeric cols\n",
    "for header in ['WPS']:\n",
    "  feature_columns.append(feature_column.numeric_column(header))\n",
    "\n",
    "feature_layer = tf.keras.layers.DenseFeatures(feature_columns)\n",
    "\n",
    "batch_size = 50\n",
    "train_ds = df_to_dataset(train, batch_size=batch_size)\n",
    "val_ds = df_to_dataset(val, shuffle=False, batch_size=batch_size)\n",
    "test_ds = df_to_dataset(test, shuffle=False, batch_size=batch_size)\n",
    "\n",
    "model = tf.keras.Sequential([\n",
    "  feature_layer,\n",
    "  layers.Dense(128, activation='relu'),\n",
    "  layers.Dense(128, activation='relu'),\n",
    "  layers.Dense(1, activation='sigmoid')\n",
    "])\n",
    "\n",
    "model.compile(optimizer='adam',\n",
    "              loss='binary_crossentropy',\n",
    "              metrics=['accuracy'])\n",
    "\n",
    "model.fit(train_ds,\n",
    "          validation_data=val_ds,\n",
    "          epochs=10)"
   ]
  },
  {
   "cell_type": "code",
   "execution_count": 35,
   "metadata": {},
   "outputs": [
    {
     "name": "stdout",
     "output_type": "stream",
     "text": [
      "1690/1690 [==============================] - 191s 113ms/step - loss: 0.4323 - acc: 0.7663\n",
      "Accuracy 0.7662713\n"
     ]
    }
   ],
   "source": [
    "loss, accuracy = model.evaluate(test_ds)\n",
    "print(\"Accuracy\", accuracy)"
   ]
  },
  {
   "cell_type": "markdown",
   "metadata": {},
   "source": [
    "### Just Sixltr "
   ]
  },
  {
   "cell_type": "code",
   "execution_count": 16,
   "metadata": {},
   "outputs": [
    {
     "name": "stdout",
     "output_type": "stream",
     "text": [
      "WARNING:tensorflow:From /Users/Pia/anaconda3/lib/python3.7/site-packages/tensorflow_core/python/ops/resource_variable_ops.py:1630: calling BaseResourceVariable.__init__ (from tensorflow.python.ops.resource_variable_ops) with constraint is deprecated and will be removed in a future version.\n",
      "Instructions for updating:\n",
      "If using Keras pass *_constraint arguments to layers.\n",
      "WARNING:tensorflow:From /Users/Pia/anaconda3/lib/python3.7/site-packages/tensorflow_core/python/ops/nn_impl.py:183: where (from tensorflow.python.ops.array_ops) is deprecated and will be removed in a future version.\n",
      "Instructions for updating:\n",
      "Use tf.where in 2.0, which has the same broadcast rule as np.where\n",
      "Train on 5407 steps, validate on 1352 steps\n",
      "Epoch 1/10\n",
      "5407/5407 [==============================] - 59s 11ms/step - loss: 0.5909 - acc: 0.6835 - val_loss: 0.5898 - val_acc: 0.6915\n",
      "Epoch 2/10\n",
      "5407/5407 [==============================] - 46s 9ms/step - loss: 0.5815 - acc: 0.6919 - val_loss: 0.5771 - val_acc: 0.6963\n",
      "Epoch 3/10\n",
      "5407/5407 [==============================] - 64s 12ms/step - loss: 0.5799 - acc: 0.6936 - val_loss: 0.5771 - val_acc: 0.6941\n",
      "Epoch 4/10\n",
      "5407/5407 [==============================] - 44s 8ms/step - loss: 0.5795 - acc: 0.6941 - val_loss: 0.5787 - val_acc: 0.6899\n",
      "Epoch 5/10\n",
      "5407/5407 [==============================] - 43s 8ms/step - loss: 0.5793 - acc: 0.6950 - val_loss: 0.5766 - val_acc: 0.6969\n",
      "Epoch 6/10\n",
      "5407/5407 [==============================] - 57s 11ms/step - loss: 0.5792 - acc: 0.6948 - val_loss: 0.5767 - val_acc: 0.6969\n",
      "Epoch 7/10\n",
      "5407/5407 [==============================] - 57s 11ms/step - loss: 0.5792 - acc: 0.6952 - val_loss: 0.5764 - val_acc: 0.6965\n",
      "Epoch 8/10\n",
      "5407/5407 [==============================] - 60s 11ms/step - loss: 0.5791 - acc: 0.6950 - val_loss: 0.5769 - val_acc: 0.6997\n",
      "Epoch 9/10\n",
      "5407/5407 [==============================] - 48s 9ms/step - loss: 0.5789 - acc: 0.6953 - val_loss: 0.5770 - val_acc: 0.6997\n",
      "Epoch 10/10\n",
      "5407/5407 [==============================] - 47s 9ms/step - loss: 0.5788 - acc: 0.6948 - val_loss: 0.5788 - val_acc: 0.6899\n"
     ]
    },
    {
     "data": {
      "text/plain": [
       "<tensorflow.python.keras.callbacks.History at 0x1c41b1ad68>"
      ]
     },
     "execution_count": 16,
     "metadata": {},
     "output_type": "execute_result"
    }
   ],
   "source": [
    "feature_columns = []\n",
    "# numeric cols\n",
    "for header in ['Sixltr']:\n",
    "  feature_columns.append(feature_column.numeric_column(header))\n",
    "\n",
    "feature_layer = tf.keras.layers.DenseFeatures(feature_columns)\n",
    "\n",
    "batch_size = 50\n",
    "train_ds = df_to_dataset(train, batch_size=batch_size)\n",
    "val_ds = df_to_dataset(val, shuffle=False, batch_size=batch_size)\n",
    "test_ds = df_to_dataset(test, shuffle=False, batch_size=batch_size)\n",
    "\n",
    "model = tf.keras.Sequential([\n",
    "  feature_layer,\n",
    "  layers.Dense(128, activation='relu'),\n",
    "  layers.Dense(128, activation='relu'),\n",
    "  layers.Dense(1, activation='sigmoid')\n",
    "])\n",
    "\n",
    "model.compile(optimizer='adam',\n",
    "              loss='binary_crossentropy',\n",
    "              metrics=['accuracy'])\n",
    "\n",
    "model.fit(train_ds,\n",
    "          validation_data=val_ds,\n",
    "          epochs=10)"
   ]
  },
  {
   "cell_type": "code",
   "execution_count": 17,
   "metadata": {},
   "outputs": [
    {
     "name": "stdout",
     "output_type": "stream",
     "text": [
      "1690/1690 [==============================] - 16s 9ms/step - loss: 0.5823 - acc: 0.6880\n",
      "Accuracy 0.6879632\n"
     ]
    }
   ],
   "source": [
    "loss, accuracy = model.evaluate(test_ds)\n",
    "print(\"Accuracy\", accuracy)"
   ]
  },
  {
   "cell_type": "markdown",
   "metadata": {},
   "source": [
    "### Just SemiC"
   ]
  },
  {
   "cell_type": "code",
   "execution_count": 18,
   "metadata": {},
   "outputs": [
    {
     "name": "stdout",
     "output_type": "stream",
     "text": [
      "Train on 5407 steps, validate on 1352 steps\n",
      "Epoch 1/10\n",
      "5407/5407 [==============================] - 114s 21ms/step - loss: 0.6931 - acc: 0.5031 - val_loss: 0.6931 - val_acc: 0.5075\n",
      "Epoch 2/10\n",
      "5407/5407 [==============================] - 47s 9ms/step - loss: 0.6931 - acc: 0.5034 - val_loss: 0.6930 - val_acc: 0.5075\n",
      "Epoch 3/10\n",
      "5407/5407 [==============================] - 49s 9ms/step - loss: 0.6931 - acc: 0.5037 - val_loss: 0.6930 - val_acc: 0.5075\n",
      "Epoch 4/10\n",
      "5407/5407 [==============================] - 45s 8ms/step - loss: 0.6931 - acc: 0.5034 - val_loss: 0.6931 - val_acc: 0.5075\n",
      "Epoch 5/10\n",
      "5407/5407 [==============================] - 51s 9ms/step - loss: 0.6931 - acc: 0.5034 - val_loss: 0.6930 - val_acc: 0.5075\n",
      "Epoch 6/10\n",
      "5407/5407 [==============================] - 45s 8ms/step - loss: 0.6931 - acc: 0.5035 - val_loss: 0.6930 - val_acc: 0.5075\n",
      "Epoch 7/10\n",
      "5407/5407 [==============================] - 48s 9ms/step - loss: 0.6931 - acc: 0.5037 - val_loss: 0.6930 - val_acc: 0.5075\n",
      "Epoch 8/10\n",
      "5407/5407 [==============================] - 45s 8ms/step - loss: 0.6931 - acc: 0.5045 - val_loss: 0.6930 - val_acc: 0.5075\n",
      "Epoch 9/10\n",
      "5407/5407 [==============================] - 48s 9ms/step - loss: 0.6931 - acc: 0.5029 - val_loss: 0.6930 - val_acc: 0.5075\n",
      "Epoch 10/10\n",
      "5407/5407 [==============================] - 46s 8ms/step - loss: 0.6931 - acc: 0.5033 - val_loss: 0.6930 - val_acc: 0.5075\n"
     ]
    },
    {
     "data": {
      "text/plain": [
       "<tensorflow.python.keras.callbacks.History at 0x1c4b924d68>"
      ]
     },
     "execution_count": 18,
     "metadata": {},
     "output_type": "execute_result"
    }
   ],
   "source": [
    "feature_columns = []\n",
    "# numeric cols\n",
    "for header in ['SemiC']:\n",
    "  feature_columns.append(feature_column.numeric_column(header))\n",
    "\n",
    "feature_layer = tf.keras.layers.DenseFeatures(feature_columns)\n",
    "\n",
    "batch_size = 50\n",
    "train_ds = df_to_dataset(train, batch_size=batch_size)\n",
    "val_ds = df_to_dataset(val, shuffle=False, batch_size=batch_size)\n",
    "test_ds = df_to_dataset(test, shuffle=False, batch_size=batch_size)\n",
    "\n",
    "model = tf.keras.Sequential([\n",
    "  feature_layer,\n",
    "  layers.Dense(128, activation='relu'),\n",
    "  layers.Dense(128, activation='relu'),\n",
    "  layers.Dense(1, activation='sigmoid')\n",
    "])\n",
    "\n",
    "model.compile(optimizer='adam',\n",
    "              loss='binary_crossentropy',\n",
    "              metrics=['accuracy'])\n",
    "\n",
    "model.fit(train_ds,\n",
    "          validation_data=val_ds,\n",
    "          epochs=10)"
   ]
  },
  {
   "cell_type": "code",
   "execution_count": 19,
   "metadata": {},
   "outputs": [
    {
     "name": "stdout",
     "output_type": "stream",
     "text": [
      "1690/1690 [==============================] - 36s 21ms/step - loss: 0.6931 - acc: 0.5051\n",
      "Accuracy 0.505114\n"
     ]
    }
   ],
   "source": [
    "loss, accuracy = model.evaluate(test_ds)\n",
    "print(\"Accuracy\", accuracy)"
   ]
  },
  {
   "cell_type": "code",
   "execution_count": null,
   "metadata": {},
   "outputs": [],
   "source": []
  },
  {
   "cell_type": "code",
   "execution_count": null,
   "metadata": {},
   "outputs": [],
   "source": []
  },
  {
   "cell_type": "code",
   "execution_count": null,
   "metadata": {},
   "outputs": [],
   "source": []
  },
  {
   "cell_type": "code",
   "execution_count": 20,
   "metadata": {},
   "outputs": [
    {
     "name": "stdout",
     "output_type": "stream",
     "text": [
      "                                             Features  Accuracy\n",
      "0   WC Analytic Clout Authentic Tone WPS Sicltr Di...  0.878543\n",
      "1                                                Tone  0.502865\n",
      "2                                           Authentic  0.578400\n",
      "3                                                 Dic  0.619149\n",
      "4                                               Clout  0.762400\n",
      "5                                          Clout Tone  0.525807\n",
      "6                                     Clout Authentic  0.761406\n",
      "7                                Clout Authentic Tone  0.758375\n",
      "8                                            Analytic  0.525807\n",
      "9                                                 WPS  0.766271\n",
      "10                                             Sixltr  0.687963\n",
      "11                                              SemiC  0.505114\n"
     ]
    }
   ],
   "source": [
    "Data = {'Features':['WC Analytic Clout Authentic Tone WPS Sicltr Dic SemiC', 'Tone', 'Authentic', 'Dic', \"Clout\", \"Clout Tone\", \"Clout Authentic\", \"Clout Authentic Tone\", \"Analytic\", \"WPS\", \"Sixltr\", \"SemiC\"], 'Accuracy':[0.8785425, 0.5028648, 0.5784, 0.6191491, 0.76240027, 0.5258068, 0.7614059, 0.75837535, 0.5258068, 0.7662713, 0.6879632, 0.505114]} \n",
    "\n",
    "df = pd.DataFrame(Data)\n",
    "\n",
    "print(df)"
   ]
  },
  {
   "cell_type": "code",
   "execution_count": 21,
   "metadata": {},
   "outputs": [
    {
     "data": {
      "text/plain": [
       "<matplotlib.axes._subplots.AxesSubplot at 0x1c9ee2b240>"
      ]
     },
     "execution_count": 21,
     "metadata": {},
     "output_type": "execute_result"
    },
    {
     "data": {
      "image/png": "[encoded data removed]",
      "text/plain": [
       "<Figure size 432x288 with 1 Axes>"
      ]
     },
     "metadata": {
      "needs_background": "light"
     },
     "output_type": "display_data"
    }
   ],
   "source": [
    "import matplotlib.pyplot as plt\n",
    "\n",
    "df.plot(x ='Features', y='Accuracy', kind = 'bar', color=['CadetBlue', 'LightSteelBlue', 'PowderBlue', 'SteelBlue'])\n",
    "\n",
    "\n"
   ]
  },
  {
   "cell_type": "code",
   "execution_count": null,
   "metadata": {},
   "outputs": [],
   "source": []
  }
 ],
 "metadata": {
  "kernelspec": {
   "display_name": "Python 3",
   "language": "python",
   "name": "python3"
  },
  "language_info": {
   "codemirror_mode": {
    "name": "ipython",
    "version": 3
   },
   "file_extension": ".py",
   "mimetype": "text/x-python",
   "name": "python",
   "nbconvert_exporter": "python",
   "pygments_lexer": "ipython3",
   "version": "3.7.3"
  }
 },
 "nbformat": 4,
 "nbformat_minor": 2
}
