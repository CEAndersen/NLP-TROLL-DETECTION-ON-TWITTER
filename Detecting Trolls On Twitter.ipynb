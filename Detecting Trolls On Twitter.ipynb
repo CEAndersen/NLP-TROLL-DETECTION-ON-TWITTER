{
 "cells": [
  {
   "cell_type": "markdown",
   "metadata": {},
   "source": [
    "### All packages "
   ]
  },
  {
   "cell_type": "code",
   "execution_count": 115,
   "metadata": {},
   "outputs": [],
   "source": [
    "\n",
    "from sklearn import model_selection, preprocessing, linear_model, naive_bayes, metrics, svm\n",
    "from sklearn.feature_extraction.text import TfidfVectorizer, CountVectorizer\n",
    "from sklearn import decomposition, ensemble\n",
    "\n",
    "import textblob, string\n",
    "from keras.preprocessing import text, sequence\n",
    "from keras import layers, models, optimizers\n",
    "from keras.models import Sequential\n",
    "from keras.layers import Dense, Dropout\n",
    "\n",
    "import pandas as pd\n",
    "import numpy as np\n",
    "import re,string\n",
    "\n",
    "import _collections\n",
    "from _collections import defaultdict\n",
    "\n",
    "import nltk\n",
    "from nltk.corpus import stopwords\n",
    "from nltk.stem import WordNetLemmatizer\n",
    "\n",
    "\n",
    "import matplotlib.pyplot as plt; plt.rcdefaults()\n",
    "import matplotlib.pyplot as plt\n",
    "\n",
    "import warnings\n",
    "warnings.filterwarnings(\"ignore\", category=DeprecationWarning)\n"
   ]
  },
  {
   "cell_type": "markdown",
   "metadata": {},
   "source": [
    "### Importing and exploring data"
   ]
  },
  {
   "cell_type": "code",
   "execution_count": 2,
   "metadata": {},
   "outputs": [
    {
     "name": "stdout",
     "output_type": "stream",
     "text": [
      "/Users/Pia/Desktop/NLP/LDA\n"
     ]
    }
   ],
   "source": [
    "\n",
    "#%cd /Users/Pia/Desktop/NLP/LDA"
   ]
  },
  {
   "cell_type": "code",
   "execution_count": 3,
   "metadata": {},
   "outputs": [],
   "source": [
    "#Load data \n",
    "\n",
    "AllData = pd.read_csv(r\"dataTest.csv\")"
   ]
  },
  {
   "cell_type": "code",
   "execution_count": 4,
   "metadata": {},
   "outputs": [
    {
     "name": "stdout",
     "output_type": "stream",
     "text": [
      "(422540, 2)\n",
      "                                                text  label\n",
      "0    #ThingsDoneByMistake kissing auntie in the lips      1\n",
      "1  RT @mc_derpin: #TheOlderWeGet the more pessimi...      1\n",
      "2  RT @dmataconis: Ready To Feel Like A Failure? ...      1\n",
      "3    Amen! #blacklivesmatter https://t.co/wGffaOqgzl      1\n",
      "4  RT @NahBabyNah: Twitchy: Chuck Todd caught out...      1\n",
      "5  RT @mcicero10: #BernieSanders #Trump people sh...      1\n",
      "6  RT @ItsJustJaynie: @HillaryClinton The undecid...      1\n",
      "7                           @TodayCleveland 'no way'      1\n",
      "8  @NickTomaWBRE Hi, Nick! We're holding a \"Miner...      1\n",
      "9  What. Is. A. Resolution #My4WordNewYearsResolu...      1\n",
      "                                                     text  label\n",
      "422530   Election Trump  visit black church  Detroit B...      0\n",
      "422531       Election Trump  visit black church  Detroit       0\n",
      "422532        Election Trump  visit black church Detroit       0\n",
      "422533  HillaryClinton says #Russia meddling  election...      0\n",
      "422534   Election Trump  visit black church  Detroit  ...      0\n",
      "422535   Election Trump  visit black church  Detroit  ...      0\n",
      "422536   Election Trump  visit black church  Detroit  ...      0\n",
      "422537   Election Trump  visit black church  Detroit  ...      0\n",
      "422538   Election Trump  visit black church  Detroit  ...      0\n",
      "422539   Election Trump  visit black church  Detroit #...      0\n"
     ]
    }
   ],
   "source": [
    "#Checking the data \n",
    "print(AllData.shape)\n",
    "\n",
    "print(AllData[0:10])\n",
    "\n",
    "print(AllData[422530:422540])\n"
   ]
  },
  {
   "cell_type": "code",
   "execution_count": 7,
   "metadata": {},
   "outputs": [
    {
     "name": "stdout",
     "output_type": "stream",
     "text": [
      "Amount of twets that are more than 30 charecters long: 294474\n",
      "Amount of dublicate tweets: 2421\n",
      "Amount of unique dublicate tweets: 551\n"
     ]
    },
    {
     "name": "stderr",
     "output_type": "stream",
     "text": [
      "/Users/Pia/anaconda3/lib/python3.7/site-packages/ipykernel_launcher.py:23: SettingWithCopyWarning: \n",
      "A value is trying to be set on a copy of a slice from a DataFrame.\n",
      "Try using .loc[row_indexer,col_indexer] = value instead\n",
      "\n",
      "See the caveats in the documentation: http://pandas.pydata.org/pandas-docs/stable/user_guide/indexing.html#returning-a-view-versus-a-copy\n"
     ]
    },
    {
     "name": "stdout",
     "output_type": "stream",
     "text": [
      "Shape of data: (301452, 4)\n",
      "                             text  label  tweet_length  tweet_word_count\n",
      "0        @TodayCleveland 'no way'      1            24                 3\n",
      "1  #IfICouldntLie I'd become mute      1            30                 4\n",
      "2  RT @JoyAnnReid: @es_snipes :-)      1            30                 4\n",
      "3   https://t.co/57h8vd3QSm ouch!      1            29                 2\n",
      "4      Track and field of dreams\"      1            26                 5\n",
      "5             Wish you were…beer!      1            19                 3\n",
      "6            @MarkJWO Impossible!      1            20                 2\n",
      "7                     Black Magic      1            11                 2\n",
      "8    @Jenn_Abrams Right decision!      1            28                 3\n",
      "9                @Humoritarian 😂😂      1            16                 2\n",
      "                                                     text  label  \\\n",
      "299737            election will  reverse mining decline        0   \n",
      "299738   seems year unexpected  believe  unexpected  h...      0   \n",
      "299739  Insight into Presidential Election  ciprni Liv...      0   \n",
      "299740  This election  disgusted  beyond Trump needs s...      0   \n",
      "299741  Check  Insight into Presidential Election  Bre...      0   \n",
      "299742  Most people  really Libertarian  #TrumpCantSwi...      0   \n",
      "299743  #Energiewende news #Germany left behind China ...      0   \n",
      "299744  Tell REAL price  Brexit  have referendum with ...      0   \n",
      "299745  realDonaldTrump  will  this election with rigg...      0   \n",
      "299746  Evidence  hacks State Election Systems suggest...      0   \n",
      "\n",
      "        tweet_length  tweet_word_count  \n",
      "299737            40                 9  \n",
      "299738            83                12  \n",
      "299739            94                10  \n",
      "299740            86                15  \n",
      "299741            92                11  \n",
      "299742            99                11  \n",
      "299743            99                15  \n",
      "299744            84                19  \n",
      "299745            96                18  \n",
      "299746            94                11  \n"
     ]
    },
    {
     "name": "stderr",
     "output_type": "stream",
     "text": [
      "/Users/Pia/anaconda3/lib/python3.7/site-packages/ipykernel_launcher.py:26: SettingWithCopyWarning: \n",
      "A value is trying to be set on a copy of a slice from a DataFrame\n",
      "\n",
      "See the caveats in the documentation: http://pandas.pydata.org/pandas-docs/stable/user_guide/indexing.html#returning-a-view-versus-a-copy\n"
     ]
    }
   ],
   "source": [
    "#As visivble above, some tweets are repeated many times. This is very likely bots or trolls, and they should be removed\n",
    "\n",
    "#Create a collum with amount of characters \n",
    "AllData['tweet_length']  = AllData['text'].str.len()\n",
    "\n",
    "#Number of words in tweet\n",
    "AllData['tweet_word_count'] = AllData['text'].apply(lambda x: len(str(x).split(\" \")))\n",
    "\n",
    "#find tweets that are more than 30 charectars long \n",
    "dflong = AllData[AllData.tweet_length > 30]\n",
    "\n",
    "print(\"Amount of twets that are more than 30 charecters long:\",len(dflong))\n",
    "\n",
    " \n",
    "duplicate_tweet = AllData[AllData.duplicated(['text'],keep=False)]\n",
    "\n",
    "print(\"Amount of dublicate tweets:\", len(duplicate_tweet))\n",
    "\n",
    "#how many unique ones?\n",
    "print(\"Amount of unique dublicate tweets:\", len(duplicate_tweet.text.unique()))\n",
    "\n",
    "#and how many times do they appear?\n",
    "duplicate_tweet['count'] = duplicate_tweet.groupby('text')['text'].transform('count')\n",
    "\n",
    "#Remove the dublicats\n",
    "dflong.drop_duplicates(subset =\"text\", keep = False, inplace = True) \n",
    "\n",
    "dfshort = AllData[AllData.tweet_length <= 30]\n",
    "AllData = pd.concat([dfshort, dflong], ignore_index=True)\n",
    "\n",
    "print(\"Shape of data:\", AllData.shape)\n",
    "\n",
    "print(AllData[0:10])\n",
    "print(AllData[299737:299747])\n"
   ]
  },
  {
   "cell_type": "code",
   "execution_count": 11,
   "metadata": {},
   "outputs": [
    {
     "name": "stdout",
     "output_type": "stream",
     "text": [
      "Shape of data: (301452, 4)\n",
      "Shape of Troll data (150474, 4)\n",
      "Shape of not Troll data (150978, 4)\n"
     ]
    }
   ],
   "source": [
    "#AllDataCleaned=AllData\n",
    "\n",
    "AllDataCleaned=AllData\n",
    "\n",
    "print(\"Shape of data:\", AllDataCleaned.shape)\n",
    "#print(AllData.shape)\n",
    "\n",
    "\n",
    "\n",
    "AllDataCleanedTroll=AllDataCleaned.loc[AllDataCleaned['label'] == 1]\n",
    "AllDataCleanedNotTroll=AllDataCleaned.loc[AllDataCleaned['label'] == 0]\n",
    "\n",
    "print(\"Shape of Troll data\", (AllDataCleanedTroll.shape))\n",
    "print(\"Shape of not Troll data\",(AllDataCleanedNotTroll.shape))\n",
    "\n",
    "\n"
   ]
  },
  {
   "cell_type": "markdown",
   "metadata": {},
   "source": [
    "### Regex data clearning \n"
   ]
  },
  {
   "cell_type": "code",
   "execution_count": 12,
   "metadata": {},
   "outputs": [],
   "source": [
    "AllDataCleaned=AllData\n",
    "AllDataCleaned['text'] = AllData['text'].str.replace('http\\S+|www.\\S+', '', case=False)\n",
    "\n",
    "\n",
    "tweets = list(AllData.text)\n",
    "tweets_T= list(AllDataCleanedTroll.text)\n",
    "tweets_NT= list(AllDataCleanedNotTroll.text)\n",
    "\n",
    "process_twt = list(filter(None, [re.sub(r'\\b\\w{1,3}\\b','', str(x)) for x in tweets]))\n",
    "process_twt_T = list(filter(None, [re.sub(r'\\b\\w{1,3}\\b','', str(x)) for x in tweets_T]))\n",
    "process_twt_NT = list(filter(None, [re.sub(r'\\b\\w{1,3}\\b','', str(x)) for x in tweets_NT]))\n"
   ]
  },
  {
   "cell_type": "code",
   "execution_count": 13,
   "metadata": {},
   "outputs": [
    {
     "name": "stdout",
     "output_type": "stream",
     "text": [
      "                               text  label  tweet_length  tweet_word_count\n",
      "100     breaking news: i don't care      1            27                 5\n",
      "101                 @HillaryClinton      1            15                 1\n",
      "102        #TwitterCanBeABit Bitchy      1            24                 2\n",
      "103       An IOU   #LastMinuteGifts      1            29                 5\n",
      "104         Too late baby, too late      1            23                 5\n",
      "105     'Why are you always alone?'      1            27                 5\n",
      "106                           🔴!!!       1            28                 2\n",
      "107         \"Winnipeg, Lose Or Draw      1            23                 4\n",
      "108  No, I just can’t get over you.      1            30                 7\n",
      "109                        awesome       1            30                 2\n"
     ]
    }
   ],
   "source": [
    "# RE removing numbers\n",
    "\n",
    "AllDataCleaned['text'] = AllData['text'].str.replace(r'\\d+','', case=False)\n",
    "print (AllDataCleaned[100:110])\n",
    "\n",
    "process_twt = list(filter(None, [re.sub(r'\\d+','', str(x)) for x in process_twt]))\n",
    "process_twt_T = list(filter(None, [re.sub(r'\\d+','', str(x)) for x in process_twt_T]))\n",
    "process_twt_NT = list(filter(None, [re.sub(r'\\d+','', str(x)) for x in process_twt_NT]))\n"
   ]
  },
  {
   "cell_type": "code",
   "execution_count": 14,
   "metadata": {},
   "outputs": [
    {
     "name": "stdout",
     "output_type": "stream",
     "text": [
      "                             text  label  tweet_length  tweet_word_count\n",
      "100     breaking news i dont care      1            27                 5\n",
      "101                HillaryClinton      1            15                 1\n",
      "102      #TwitterCanBeABit Bitchy      1            24                 2\n",
      "103     An IOU   #LastMinuteGifts      1            29                 5\n",
      "104        Too late baby too late      1            23                 5\n",
      "105      Why are you always alone      1            27                 5\n",
      "106                            🔴       1            28                 2\n",
      "107         Winnipeg Lose Or Draw      1            23                 4\n",
      "108  No I just can’t get over you      1            30                 7\n",
      "109                      awesome       1            30                 2\n"
     ]
    }
   ],
   "source": [
    "# RE removing punctuation\n",
    "\n",
    "AllDataCleaned['text'] = AllData['text'].str.replace(r'[\\.\\,\\'\\\"\\!\\?\\:\\;\\-\\_\\=\\(\\)\\|\\*\\@\\&\\$\\\"\\/\\%\\+]+','', case=False)\n",
    "print (AllDataCleaned[100:110])\n",
    "\n",
    "process_twt = list(filter(None, [re.sub(r'[\\.\\,\\'\\\"\\!\\?\\:\\;\\-\\_\\=\\(\\)\\|\\*\\@\\&\\$\\\"\\/\\%\\+]+','', str(x)) for x in process_twt]))\n",
    "process_twt_T = list(filter(None, [re.sub(r'[\\.\\,\\'\\\"\\!\\?\\:\\;\\-\\_\\=\\(\\)\\|\\*\\@\\&\\$\\\"\\/\\%\\+]+','', str(x)) for x in process_twt_T]))\n",
    "process_twt_NT = list(filter(None, [re.sub(r'[\\.\\,\\'\\\"\\!\\?\\:\\;\\-\\_\\=\\(\\)\\|\\*\\@\\&\\$\\\"\\/\\%\\+]+','', str(x)) for x in process_twt_NT]))\n"
   ]
  },
  {
   "cell_type": "code",
   "execution_count": 15,
   "metadata": {},
   "outputs": [
    {
     "name": "stdout",
     "output_type": "stream",
     "text": [
      "                            text  label  tweet_length  tweet_word_count\n",
      "100    breaking news i dont care      1            27                 5\n",
      "101               HillaryClinton      1            15                 1\n",
      "102     #TwitterCanBeABit Bitchy      1            24                 2\n",
      "103    An IOU   #LastMinuteGifts      1            29                 5\n",
      "104       Too late baby too late      1            23                 5\n",
      "105     Why are you always alone      1            27                 5\n",
      "106                                   1            28                 2\n",
      "107        Winnipeg Lose Or Draw      1            23                 4\n",
      "108  No I just cant get over you      1            30                 7\n",
      "109                     awesome       1            30                 2\n"
     ]
    }
   ],
   "source": [
    "# RE removing non-ASCII characters\n",
    "\n",
    "AllDataCleaned['text'] = AllData['text'].str.replace(r'[^\\x00-\\x7F]+','', case=False)\n",
    "print (AllDataCleaned[100:110])\n",
    "\n",
    "process_twt = list(filter(None, [re.sub(r'[^\\x00-\\x7F]+','', str(x)) for x in process_twt]))\n",
    "process_twt_T = list(filter(None, [re.sub(r'[^\\x00-\\x7F]+','', str(x)) for x in process_twt_T]))\n",
    "process_twt_NT = list(filter(None, [re.sub(r'[^\\x00-\\x7F]+','', str(x)) for x in process_twt_NT]))\n"
   ]
  },
  {
   "cell_type": "code",
   "execution_count": 16,
   "metadata": {},
   "outputs": [
    {
     "name": "stdout",
     "output_type": "stream",
     "text": [
      "                            text  label  tweet_length  tweet_word_count\n",
      "100    breaking news i dont care      1            27                 5\n",
      "101               HillaryClinton      1            15                 1\n",
      "102     #TwitterCanBeABit Bitchy      1            24                 2\n",
      "103      An IOU #LastMinuteGifts      1            29                 5\n",
      "104       Too late baby too late      1            23                 5\n",
      "105     Why are you always alone      1            27                 5\n",
      "106                                   1            28                 2\n",
      "107        Winnipeg Lose Or Draw      1            23                 4\n",
      "108  No I just cant get over you      1            30                 7\n",
      "109                     awesome       1            30                 2\n"
     ]
    }
   ],
   "source": [
    "# RE removing too long character chains (e.g. \"gooooo\"=\"go\")\n",
    "AllDataCleaned['text'] = AllData['text'].str.replace(r'(.)\\1{2,}',r'\\1', case=False)\n",
    "print (AllDataCleaned[100:110])\n",
    "\n",
    "process_twt = list(filter(None, [re.sub(r'(.)\\1{2,}',r'\\1', str(x)) for x in process_twt]))\n",
    "process_twt_T = list(filter(None, [re.sub(r'(.)\\1{2,}',r'\\1', str(x)) for x in process_twt_T]))\n",
    "process_twt_NT = list(filter(None, [re.sub(r'(.)\\1{2,}',r'\\1', str(x)) for x in process_twt_NT]))\n"
   ]
  },
  {
   "cell_type": "code",
   "execution_count": 17,
   "metadata": {},
   "outputs": [
    {
     "name": "stdout",
     "output_type": "stream",
     "text": [
      "                            text  label  tweet_length  tweet_word_count\n",
      "100    breaking news i dont care      1            27                 5\n",
      "101               HillaryClinton      1            15                 1\n",
      "102     #TwitterCanBeABit Bitchy      1            24                 2\n",
      "103      An IOU #LastMinuteGifts      1            29                 5\n",
      "104       Too late baby too late      1            23                 5\n",
      "105     Why are you always alone      1            27                 5\n",
      "106                                   1            28                 2\n",
      "107        Winnipeg Lose Or Draw      1            23                 4\n",
      "108  No I just cant get over you      1            30                 7\n",
      "109                     awesome       1            30                 2\n"
     ]
    }
   ],
   "source": [
    "# RE removeing RT for retweet recognition since dublicates are removed\n",
    "\n",
    "AllDataCleaned['text'] = AllData['text'].str.replace(r'(RT)' ,'', case=False)\n",
    "print (AllDataCleaned[100:110])\n",
    "\n",
    "process_twt = list(filter(None, [re.sub(r'(RT)' ,r'\\1', str(x)) for x in process_twt]))\n",
    "process_twt_T = list(filter(None, [re.sub(r'(RT)' ,r'\\1', str(x)) for x in process_twt_T]))\n",
    "process_twt_NT = list(filter(None, [re.sub(r'(RT)' ,r'\\1', str(x)) for x in process_twt_NT]))\n"
   ]
  },
  {
   "cell_type": "code",
   "execution_count": 18,
   "metadata": {},
   "outputs": [
    {
     "name": "stdout",
     "output_type": "stream",
     "text": [
      "(301452, 4)\n"
     ]
    }
   ],
   "source": [
    "#Remove row if there is an empty cell \n",
    "AllDataCleaned.dropna(axis=0, how='any', inplace=False)\n",
    "\n",
    "#Save data as csv so I dont have to run all this again later. \n",
    "AllDataCleaned.to_csv(r'/Users/Pia/Desktop/NLP/LDA/AllDataCleaned.csv')\n",
    "\n",
    "print(AllDataCleaned.shape)\n"
   ]
  },
  {
   "cell_type": "markdown",
   "metadata": {},
   "source": [
    "### Tokenize and remove capital letters"
   ]
  },
  {
   "cell_type": "code",
   "execution_count": 19,
   "metadata": {},
   "outputs": [],
   "source": [
    "# Prepare the lemmatizer and the stop list\n",
    "lmtzr = WordNetLemmatizer()\n",
    "stoplist = stopwords.words('english')\n",
    "\n",
    "\n",
    "#Tokenize\n",
    "process_twt = [\n",
    "    [word for word in document.lower().split()]\n",
    "    for document in process_twt]\n",
    "\n",
    "process_twt_T = [\n",
    "    [word for word in document.lower().split()]\n",
    "    for document in process_twt_T]\n",
    "\n",
    "process_twt_NT = [\n",
    "    [word for word in document.lower().split()]\n",
    "    for document in process_twt_NT]"
   ]
  },
  {
   "cell_type": "code",
   "execution_count": 20,
   "metadata": {},
   "outputs": [],
   "source": [
    "# Calculate the frequency of each word, save it in a dictionary of format {\"word\":n}\n",
    "frequency = defaultdict(int)\n",
    "for text in process_twt:\n",
    "    for token in text:\n",
    "        frequency[token] += 1\n",
    "\n"
   ]
  },
  {
   "cell_type": "code",
   "execution_count": 21,
   "metadata": {},
   "outputs": [],
   "source": [
    "# Remove words that appear only once, as well as words in our stop list\n",
    "process_twt = [\n",
    "    [token for token in text if frequency[token] > 1\n",
    "     and token not in stoplist]\n",
    "    for text in process_twt\n",
    "]\n",
    "\n",
    "\n"
   ]
  },
  {
   "cell_type": "code",
   "execution_count": 22,
   "metadata": {},
   "outputs": [],
   "source": [
    "# Lemmantize the tokens\n",
    "cleaned_tweets = [\n",
    "     [lmtzr.lemmatize(word) for word in document if word not in stoplist]\n",
    "    for document in process_twt\n",
    " ]\n",
    "\n",
    "\n",
    "cleaned_Trolls = [\n",
    "     [lmtzr.lemmatize(word) for word in document if word not in stoplist]\n",
    "    for document in process_twt_T\n",
    " ]\n",
    "\n",
    "cleaned_NotTrolls = [\n",
    "     [lmtzr.lemmatize(word) for word in document if word not in stoplist]\n",
    "    for document in process_twt_NT\n",
    " ]"
   ]
  },
  {
   "cell_type": "code",
   "execution_count": 23,
   "metadata": {},
   "outputs": [
    {
     "name": "stdout",
     "output_type": "stream",
     "text": [
      "(301452, 4)\n",
      "Contains empty rows (301452, 4)\n",
      "Number of tweets 301281\n"
     ]
    }
   ],
   "source": [
    "#TweetsList=pd.DataFrame(cleaned_tweets, columns=[\"text\"])\n",
    "#text=pd.DataFrame(cleaned_tweets, columns=[\"text\"])\n",
    "\n",
    "#c_tweets=list(cleaned_tweets)\n",
    "\n",
    "\n",
    "#text=pd.DataFrame(c_tweets, columns=[\"text\"])\n",
    "\n",
    "#CleanedData=AllData['cleantext'] = cleaned_tweets\n",
    "\n",
    "print(AllData.shape)\n",
    "print(\"Contains empty rows\", AllDataCleaned.shape)\n",
    "print(\"Number of tweets\", len(process_twt))\n",
    "\n",
    "\n",
    "\n"
   ]
  },
  {
   "cell_type": "markdown",
   "metadata": {},
   "source": [
    "### Visual differences"
   ]
  },
  {
   "cell_type": "code",
   "execution_count": 58,
   "metadata": {},
   "outputs": [
    {
     "name": "stdout",
     "output_type": "stream",
     "text": [
      "tweet_length    79.747076\n",
      "dtype: float64\n"
     ]
    },
    {
     "data": {
      "text/plain": [
       "<matplotlib.axes._subplots.AxesSubplot at 0x1c98f38828>"
      ]
     },
     "execution_count": 58,
     "metadata": {},
     "output_type": "execute_result"
    },
    {
     "data": {
      "image/png": "[encoded data removed]",
      "text/plain": [
       "<Figure size 640x480 with 1 Axes>"
      ]
     },
     "metadata": {},
     "output_type": "display_data"
    },
    {
     "data": {
      "image/png": "[encoded data removed]",
      "text/plain": [
       "<Figure size 640x480 with 1 Axes>"
      ]
     },
     "metadata": {},
     "output_type": "display_data"
    }
   ],
   "source": [
    "Avrage_number_of_words_Trolls=AllDataCleanedTroll[['tweet_word_count']].mean(axis=0)\n",
    "\n",
    "Avrage_number_of_words_Not_Trolls=AllDataCleanedNotTroll[['tweet_word_count']].mean(axis=0)\n",
    "\n",
    "\n",
    "Avrage_number_of_charecters_Trolls=AllDataCleanedTroll[['tweet_length']].mean(axis=0)\n",
    "\n",
    "Avrage_number_of_charecters_Not_Trolls=AllDataCleanedNotTroll[['tweet_length']].mean(axis=0)\n",
    "print(Avrage_number_of_charecters_Not_Trolls)\n",
    "\n",
    "\n",
    "VisualWords = {'Type of Twitter user':['Trolls', 'Not Trolls'], 'Avrage_number_of_words_Trolls':[float(Avrage_number_of_words_Trolls), float(Avrage_number_of_words_Not_Trolls)]} \n",
    "\n",
    "VisualCharacters = {'Type of Twitter user':['Trolls', 'Not Trolls'], 'Avrage_number_of_charecters_Trolls':[float(Avrage_number_of_charecters_Trolls), float(Avrage_number_of_charecters_Not_Trolls)]} \n",
    "\n",
    "VisualWords = pd.DataFrame(VisualWords)\n",
    "\n",
    "VisualCharacters = pd.DataFrame(VisualCharacters)\n",
    "#AllDataCleanedTroll\n",
    "#AllDataCleanedNotTroll\n",
    "\n",
    "\n",
    "VisualWords.plot(x =\"Type of Twitter user\", y='Avrage_number_of_words_Trolls', kind = 'bar', color=['CadetBlue', 'LightSteelBlue', 'PowderBlue', 'SteelBlue'])\n",
    "\n",
    "VisualCharacters.plot(x =\"Type of Twitter user\", y='Avrage_number_of_charecters_Trolls', kind = 'bar', color=['CadetBlue', 'LightSteelBlue', 'PowderBlue', 'SteelBlue'])\n"
   ]
  },
  {
   "cell_type": "code",
   "execution_count": 62,
   "metadata": {},
   "outputs": [
    {
     "name": "stdout",
     "output_type": "stream",
     "text": [
      "tweet_word_count    13.339255\n",
      "dtype: float64\n"
     ]
    }
   ],
   "source": [
    "print(Avrage_number_of_words_Not_Trolls)"
   ]
  },
  {
   "cell_type": "markdown",
   "metadata": {},
   "source": [
    "### Prepare data for models"
   ]
  },
  {
   "cell_type": "code",
   "execution_count": 25,
   "metadata": {},
   "outputs": [],
   "source": [
    "#Split into training and testing sets. x is text and y is labels. \n",
    "train_x, valid_x, train_y, valid_y = model_selection.train_test_split(AllDataCleaned['text'], AllData['label'])\n"
   ]
  },
  {
   "cell_type": "code",
   "execution_count": 26,
   "metadata": {},
   "outputs": [],
   "source": [
    "encoder = preprocessing.LabelEncoder()\n",
    "train_y = encoder.fit_transform(train_y)\n",
    "valid_y = encoder.fit_transform(valid_y)\n",
    "\n",
    "#All this has to be strings\n",
    "AllDataCleaned['text'] = AllDataCleaned['text'].astype(str)\n",
    "train_x = train_x.astype(str)\n",
    "valid_x = valid_x.astype(str)\n",
    "train_y = train_y.astype(str)\n",
    "valid_y = valid_y.astype(str)\n",
    "\n"
   ]
  },
  {
   "cell_type": "code",
   "execution_count": 27,
   "metadata": {},
   "outputs": [],
   "source": [
    "# word level tf-idf\n",
    "tfidf_vect = TfidfVectorizer(analyzer='word', token_pattern=r'\\w{1,}', max_features=5000)\n",
    "tfidf_vect.fit(AllDataCleaned['text'])\n",
    "xtrain_tfidf =  tfidf_vect.transform(train_x)\n",
    "xvalid_tfidf =  tfidf_vect.transform(valid_x)"
   ]
  },
  {
   "cell_type": "code",
   "execution_count": 28,
   "metadata": {},
   "outputs": [],
   "source": [
    "# ngram level tf-idf \n",
    "tfidf_vect_ngram = TfidfVectorizer(analyzer='word', token_pattern=r'\\w{1,}', ngram_range=(2,3), max_features=5000)\n",
    "tfidf_vect_ngram.fit(AllDataCleaned['text'])\n",
    "xtrain_tfidf_ngram =  tfidf_vect_ngram.transform(train_x)\n",
    "xvalid_tfidf_ngram =  tfidf_vect_ngram.transform(valid_x)"
   ]
  },
  {
   "cell_type": "code",
   "execution_count": 29,
   "metadata": {},
   "outputs": [],
   "source": [
    "# characters level tf-idf\n",
    "tfidf_vect_ngram_chars = TfidfVectorizer(analyzer='char', token_pattern=r'\\w{1,}', ngram_range=(2,3), max_features=5000)\n",
    "tfidf_vect_ngram_chars.fit(AllDataCleaned['text'])\n",
    "xtrain_tfidf_ngram_chars =  tfidf_vect_ngram_chars.transform(train_x) \n",
    "xvalid_tfidf_ngram_chars =  tfidf_vect_ngram_chars.transform(valid_x) "
   ]
  },
  {
   "cell_type": "markdown",
   "metadata": {},
   "source": [
    "### Models "
   ]
  },
  {
   "cell_type": "code",
   "execution_count": 74,
   "metadata": {},
   "outputs": [],
   "source": [
    "def train_model(classifier, feature_vector_train, label, feature_vector_valid, is_neural_net=False):\n",
    "    # fit the training dataset on the classifier\n",
    "    classifier.fit(feature_vector_train, label)\n",
    "    \n",
    "    # predict the labels on validation dataset\n",
    "    predictions = classifier.predict(feature_vector_valid)\n",
    "    \n",
    "    if is_neural_net:\n",
    "        predictions = predictions.argmax(axis=-1)\n",
    "    \n",
    "    return metrics.accuracy_score(predictions, valid_y)\n",
    "\n",
    "\n",
    "\n",
    "\n",
    "def train_model1(classifier, feature_vector_train, label, feature_vector_valid, \n",
    "                is_neural_net=False, epochs=1):\n",
    "    # fit the training dataset on the classifier\n",
    "    if is_neural_net:\n",
    "      classifier.fit(feature_vector_train, label, epochs=epochs)\n",
    "    else:\n",
    "      classifier.fit(feature_vector_train, label)   \n",
    "    \n",
    "    # predict the labels on validation dataset\n",
    "    predictions = classifier.predict(feature_vector_valid)\n",
    "    \n",
    "    \n",
    "    if is_neural_net:\n",
    "      predictions = [int(round(p[0])) for p in predictions]\n",
    "      #predictions = predictions.argmax(axis=-1)\n",
    "\n",
    "    print(\"predictions\", predictions[:20])\n",
    "    print(\"valid_y\", valid_y[:20])\n",
    "    \n",
    "    return metrics.accuracy_score(predictions, valid_y)\n"
   ]
  },
  {
   "cell_type": "markdown",
   "metadata": {},
   "source": [
    "#### Linear Classifier"
   ]
  },
  {
   "cell_type": "code",
   "execution_count": 52,
   "metadata": {},
   "outputs": [
    {
     "name": "stdout",
     "output_type": "stream",
     "text": [
      "LR, WordLevel TF-IDF:  0.9910964266284517\n"
     ]
    }
   ],
   "source": [
    "# Linear Classifier on Word Level TF IDF Vectors\n",
    "accuracy = train_model(linear_model.LogisticRegression(), xtrain_tfidf, train_y, xvalid_tfidf)\n",
    "print(\"LR, WordLevel TF-IDF: \", accuracy)\n"
   ]
  },
  {
   "cell_type": "code",
   "execution_count": 43,
   "metadata": {},
   "outputs": [
    {
     "name": "stdout",
     "output_type": "stream",
     "text": [
      "LR, N-Gram Vectors:  0.9049533590754083\n"
     ]
    }
   ],
   "source": [
    "\n",
    "# Linear Classifier on Ngram Level TF IDF Vectors\n",
    "accuracy = train_model(linear_model.LogisticRegression(), xtrain_tfidf_ngram, train_y, xvalid_tfidf_ngram)\n",
    "print( \"LR, N-Gram Vectors: \", accuracy)\n"
   ]
  },
  {
   "cell_type": "code",
   "execution_count": 44,
   "metadata": {},
   "outputs": [
    {
     "name": "stdout",
     "output_type": "stream",
     "text": [
      "LR, CharLevel Vectors:  0.992755065483062\n"
     ]
    }
   ],
   "source": [
    "\n",
    "# Linear Classifier on Character Level TF IDF Vectors\n",
    "accuracy = train_model(linear_model.LogisticRegression(), xtrain_tfidf_ngram_chars, train_y, xvalid_tfidf_ngram_chars)\n",
    "print(\"LR, CharLevel Vectors: \", accuracy)"
   ]
  },
  {
   "cell_type": "markdown",
   "metadata": {},
   "source": [
    "##### Naive Bayes"
   ]
  },
  {
   "cell_type": "code",
   "execution_count": 321,
   "metadata": {},
   "outputs": [
    {
     "name": "stdout",
     "output_type": "stream",
     "text": [
      "NB, WordLevel TF-IDF:  0.9688175895333254\n"
     ]
    }
   ],
   "source": [
    "# Naive Bayes on Word Level TF IDF Vectors\n",
    "accuracy = train_model(naive_bayes.MultinomialNB(), xtrain_tfidf, train_y, xvalid_tfidf)\n",
    "print(\"NB, WordLevel TF-IDF: \", accuracy)\n"
   ]
  },
  {
   "cell_type": "code",
   "execution_count": 322,
   "metadata": {},
   "outputs": [
    {
     "name": "stdout",
     "output_type": "stream",
     "text": [
      "NB, N-Gram Vectors:  0.8405981715165267\n"
     ]
    }
   ],
   "source": [
    "# Naive Bayes on Ngram Level TF IDF Vectors\n",
    "accuracy = train_model(naive_bayes.MultinomialNB(), xtrain_tfidf_ngram, train_y, xvalid_tfidf_ngram)\n",
    "print(\"NB, N-Gram Vectors: \", accuracy)"
   ]
  },
  {
   "cell_type": "code",
   "execution_count": 323,
   "metadata": {},
   "outputs": [
    {
     "name": "stdout",
     "output_type": "stream",
     "text": [
      "NB, CharLevel Vectors:  0.9662831893634808\n"
     ]
    }
   ],
   "source": [
    "# Naive Bayes on Character Level TF IDF Vectors\n",
    "accuracy = train_model(naive_bayes.MultinomialNB(), xtrain_tfidf_ngram_chars, train_y, xvalid_tfidf_ngram_chars)\n",
    "print(\"NB, CharLevel Vectors: \", accuracy)"
   ]
  },
  {
   "cell_type": "markdown",
   "metadata": {},
   "source": [
    "##### SVM"
   ]
  },
  {
   "cell_type": "code",
   "execution_count": 205,
   "metadata": {},
   "outputs": [
    {
     "name": "stderr",
     "output_type": "stream",
     "text": [
      "/Users/Pia/anaconda3/lib/python3.7/site-packages/sklearn/svm/base.py:193: FutureWarning: The default value of gamma will change from 'auto' to 'scale' in version 0.22 to account better for unscaled features. Set gamma explicitly to 'auto' or 'scale' to avoid this warning.\n",
      "  \"avoid this warning.\", FutureWarning)\n"
     ]
    },
    {
     "name": "stdout",
     "output_type": "stream",
     "text": [
      "SVM, tfifg wordlevel Vectors:  0.8960917862644936\n"
     ]
    }
   ],
   "source": [
    "# SVM on word Level TF IDF Vectors\n",
    "accuracy = train_model(svm.SVC(), xtrain_tfidf, train_y, xvalid_tfidf)\n",
    "print(\"S VM, tfifg wordlevel Vectors: \", accuracy)"
   ]
  },
  {
   "cell_type": "code",
   "execution_count": 206,
   "metadata": {},
   "outputs": [
    {
     "name": "stderr",
     "output_type": "stream",
     "text": [
      "/Users/Pia/anaconda3/lib/python3.7/site-packages/sklearn/svm/base.py:193: FutureWarning: The default value of gamma will change from 'auto' to 'scale' in version 0.22 to account better for unscaled features. Set gamma explicitly to 'auto' or 'scale' to avoid this warning.\n",
      "  \"avoid this warning.\", FutureWarning)\n"
     ]
    },
    {
     "name": "stdout",
     "output_type": "stream",
     "text": [
      "SVM, N-Gram Vectors:  0.5100948674288495\n"
     ]
    }
   ],
   "source": [
    "# SVM on Ngram Level TF IDF Vectors\n",
    "accuracy = train_model(svm.SVC(), xtrain_tfidf_ngram, train_y, xvalid_tfidf_ngram)\n",
    "print(\"SVM, N-Gram Vectors: \", accuracy)"
   ]
  },
  {
   "cell_type": "code",
   "execution_count": null,
   "metadata": {},
   "outputs": [
    {
     "name": "stderr",
     "output_type": "stream",
     "text": [
      "/Users/Pia/anaconda3/lib/python3.7/site-packages/sklearn/svm/base.py:193: FutureWarning: The default value of gamma will change from 'auto' to 'scale' in version 0.22 to account better for unscaled features. Set gamma explicitly to 'auto' or 'scale' to avoid this warning.\n",
      "  \"avoid this warning.\", FutureWarning)\n"
     ]
    }
   ],
   "source": [
    "# SVM on Character Level Level TF IDF Vectors  ###!!! No patience for that. Takes too long to run !!!###\n",
    "accuracy = train_model(svm.SVC(), xtrain_tfidf_ngram_chars, train_y, xvalid_tfidf_ngram_chars)\n",
    "print(\"SVM, CharLevel Vectors: \", accuracy) "
   ]
  },
  {
   "cell_type": "markdown",
   "metadata": {},
   "source": [
    "##### Neural Network "
   ]
  },
  {
   "cell_type": "code",
   "execution_count": 136,
   "metadata": {},
   "outputs": [
    {
     "name": "stdout",
     "output_type": "stream",
     "text": [
      "Train on 226089 samples, validate on 75363 samples\n",
      "Epoch 1/10\n",
      " - 33s - loss: 0.5501 - acc: 0.7657 - val_loss: 0.4453 - val_acc: 0.9883\n",
      "Epoch 2/10\n",
      " - 27s - loss: 0.4517 - acc: 0.8441 - val_loss: 0.3622 - val_acc: 0.9912\n",
      "Epoch 3/10\n",
      " - 29s - loss: 0.4145 - acc: 0.8452 - val_loss: 0.3082 - val_acc: 0.9920\n",
      "Epoch 4/10\n",
      " - 29s - loss: 0.3927 - acc: 0.8470 - val_loss: 0.2697 - val_acc: 0.9922\n",
      "Epoch 5/10\n",
      " - 29s - loss: 0.3819 - acc: 0.8465 - val_loss: 0.2431 - val_acc: 0.9918\n",
      "Epoch 6/10\n",
      " - 30s - loss: 0.3739 - acc: 0.8472 - val_loss: 0.2226 - val_acc: 0.9921\n",
      "Epoch 7/10\n",
      " - 28s - loss: 0.3667 - acc: 0.8492 - val_loss: 0.2074 - val_acc: 0.9915\n",
      "Epoch 8/10\n",
      " - 30s - loss: 0.3654 - acc: 0.8481 - val_loss: 0.1962 - val_acc: 0.9916\n",
      "Epoch 9/10\n",
      " - 30s - loss: 0.3615 - acc: 0.8493 - val_loss: 0.1868 - val_acc: 0.9916\n",
      "Epoch 10/10\n",
      " - 28s - loss: 0.3623 - acc: 0.8479 - val_loss: 0.1808 - val_acc: 0.9917\n"
     ]
    }
   ],
   "source": [
    "# Neural network on word Level TF IDF Vectors\n",
    "def make_model():\n",
    "    model = Sequential()\n",
    "    model.add(Dense(units=100, activation='relu', input_dim=xtrain_tfidf_ngram.shape[1]))\n",
    "    model.add(Dense(units=1, activation='sigmoid'))\n",
    "    model.add(Dropout(rate=0.30))\n",
    "    model.add(Dense(units=1, activation='sigmoid'))\n",
    "    return model\n",
    "\n",
    "model = make_model()\n",
    "model.compile(optimizer=optimizers.Adam(), loss='binary_crossentropy',\n",
    "              metrics=['accuracy'])\n",
    "\n",
    "history = model.fit(xtrain_tfidf, train_y, epochs=10, verbose=2, batch_size=400, validation_data=(xvalid_tfidf, valid_y))\n"
   ]
  },
  {
   "cell_type": "code",
   "execution_count": 137,
   "metadata": {},
   "outputs": [
    {
     "data": {
      "text/plain": [
       "Text(0.5, 1.0, 'Loss')"
      ]
     },
     "execution_count": 137,
     "metadata": {},
     "output_type": "execute_result"
    },
    {
     "data": {
      "image/png": "[encoded data removed]",
      "text/plain": [
       "<Figure size 640x480 with 1 Axes>"
      ]
     },
     "metadata": {},
     "output_type": "display_data"
    }
   ],
   "source": [
    "#Loss vizualized to check for overfitting \n",
    "plt.plot(history.history['loss']);\n",
    "plt.plot(history.history['val_loss']);\n",
    "plt.legend(['training loss', 'validation loss']);\n",
    "plt.title('Loss')\n",
    "\n"
   ]
  },
  {
   "cell_type": "code",
   "execution_count": 138,
   "metadata": {},
   "outputs": [
    {
     "data": {
      "text/plain": [
       "Text(0.5, 1.0, 'Accuracy')"
      ]
     },
     "execution_count": 138,
     "metadata": {},
     "output_type": "execute_result"
    },
    {
     "data": {
      "image/png": "[encoded data removed]",
      "text/plain": [
       "<Figure size 640x480 with 1 Axes>"
      ]
     },
     "metadata": {},
     "output_type": "display_data"
    }
   ],
   "source": [
    "#Loss vizualized to check for overfitting \n",
    "plt.plot(history.history['acc']);\n",
    "plt.plot(history.history['val_acc']);\n",
    "plt.legend(['training acc', 'validation acc']);\n",
    "plt.title('Accuracy')"
   ]
  },
  {
   "cell_type": "code",
   "execution_count": 130,
   "metadata": {},
   "outputs": [
    {
     "name": "stdout",
     "output_type": "stream",
     "text": [
      "Train on 226089 samples, validate on 75363 samples\n",
      "Epoch 1/10\n",
      " - 33s - loss: 0.5899 - acc: 0.7115 - val_loss: 0.5028 - val_acc: 0.9050\n",
      "Epoch 2/10\n",
      " - 27s - loss: 0.5130 - acc: 0.7858 - val_loss: 0.4432 - val_acc: 0.9048\n",
      "Epoch 3/10\n",
      " - 25s - loss: 0.4878 - acc: 0.7860 - val_loss: 0.4082 - val_acc: 0.9041\n",
      "Epoch 4/10\n",
      " - 27s - loss: 0.4749 - acc: 0.7859 - val_loss: 0.3837 - val_acc: 0.9040\n",
      "Epoch 5/10\n",
      " - 29s - loss: 0.4652 - acc: 0.7882 - val_loss: 0.3650 - val_acc: 0.9043\n",
      "Epoch 6/10\n",
      " - 27s - loss: 0.4623 - acc: 0.7866 - val_loss: 0.3538 - val_acc: 0.9037\n",
      "Epoch 7/10\n",
      " - 27s - loss: 0.4585 - acc: 0.7871 - val_loss: 0.3398 - val_acc: 0.9042\n",
      "Epoch 8/10\n",
      " - 26s - loss: 0.4581 - acc: 0.7856 - val_loss: 0.3352 - val_acc: 0.9043\n",
      "Epoch 9/10\n",
      " - 30s - loss: 0.4548 - acc: 0.7872 - val_loss: 0.3320 - val_acc: 0.9036\n",
      "Epoch 10/10\n",
      " - 28s - loss: 0.4539 - acc: 0.7874 - val_loss: 0.3239 - val_acc: 0.9040\n"
     ]
    }
   ],
   "source": [
    "# Neural network on Ngram Level TF IDF Vectors\n",
    "def make_model():\n",
    "    model = Sequential()\n",
    "    model.add(Dense(units=100, activation='relu', input_dim=xtrain_tfidf_ngram.shape[1]))\n",
    "    model.add(Dense(units=1, activation='sigmoid'))\n",
    "    model.add(Dropout(rate=0.30))\n",
    "    model.add(Dense(units=1, activation='sigmoid'))\n",
    "    return model\n",
    "\n",
    "model = make_model()\n",
    "model.compile(optimizer=optimizers.Adam(), loss='binary_crossentropy',\n",
    "              metrics=['accuracy'])\n",
    "\n",
    "history = model.fit(xtrain_tfidf_ngram, train_y, epochs=10, verbose=2, batch_size=400, validation_data=(xvalid_tfidf_ngram, valid_y))\n"
   ]
  },
  {
   "cell_type": "code",
   "execution_count": 131,
   "metadata": {},
   "outputs": [
    {
     "data": {
      "text/plain": [
       "Text(0.5, 1.0, 'Loss')"
      ]
     },
     "execution_count": 131,
     "metadata": {},
     "output_type": "execute_result"
    },
    {
     "data": {
      "image/png": "[encoded data removed]",
      "text/plain": [
       "<Figure size 640x480 with 1 Axes>"
      ]
     },
     "metadata": {},
     "output_type": "display_data"
    }
   ],
   "source": [
    "#Loss vizualized to check for overfitting \n",
    "plt.plot(history.history['loss']);\n",
    "plt.plot(history.history['val_loss']);\n",
    "plt.legend(['training loss', 'validation loss']);\n",
    "plt.title('Loss')\n"
   ]
  },
  {
   "cell_type": "code",
   "execution_count": 132,
   "metadata": {},
   "outputs": [
    {
     "data": {
      "text/plain": [
       "Text(0.5, 1.0, 'Accuracy')"
      ]
     },
     "execution_count": 132,
     "metadata": {},
     "output_type": "execute_result"
    },
    {
     "data": {
      "image/png": "[encoded data removed]",
      "text/plain": [
       "<Figure size 640x480 with 1 Axes>"
      ]
     },
     "metadata": {},
     "output_type": "display_data"
    }
   ],
   "source": [
    "#Accuracy vizualized to check for overfitting \n",
    "plt.plot(history.history['acc']);\n",
    "plt.plot(history.history['val_acc']);\n",
    "plt.legend(['training acc', 'validation acc']);\n",
    "plt.title('Accuracy')\n"
   ]
  },
  {
   "cell_type": "code",
   "execution_count": 133,
   "metadata": {},
   "outputs": [
    {
     "name": "stdout",
     "output_type": "stream",
     "text": [
      "Train on 226089 samples, validate on 75363 samples\n",
      "Epoch 1/10\n",
      " - 40s - loss: 0.5440 - acc: 0.7816 - val_loss: 0.4463 - val_acc: 0.9913\n",
      "Epoch 2/10\n",
      " - 29s - loss: 0.4533 - acc: 0.8444 - val_loss: 0.3657 - val_acc: 0.9937\n",
      "Epoch 3/10\n",
      " - 29s - loss: 0.4150 - acc: 0.8466 - val_loss: 0.3118 - val_acc: 0.9939\n",
      "Epoch 4/10\n",
      " - 28s - loss: 0.3968 - acc: 0.8448 - val_loss: 0.2740 - val_acc: 0.9937\n",
      "Epoch 5/10\n",
      " - 30s - loss: 0.3822 - acc: 0.8470 - val_loss: 0.2453 - val_acc: 0.9938\n",
      "Epoch 6/10\n",
      " - 29s - loss: 0.3751 - acc: 0.8467 - val_loss: 0.2252 - val_acc: 0.9934\n",
      "Epoch 7/10\n",
      " - 28s - loss: 0.3698 - acc: 0.8469 - val_loss: 0.2090 - val_acc: 0.9930\n",
      "Epoch 8/10\n",
      " - 28s - loss: 0.3669 - acc: 0.8468 - val_loss: 0.1969 - val_acc: 0.9937\n",
      "Epoch 9/10\n",
      " - 31s - loss: 0.3622 - acc: 0.8484 - val_loss: 0.1870 - val_acc: 0.9935\n",
      "Epoch 10/10\n",
      " - 27s - loss: 0.3630 - acc: 0.8467 - val_loss: 0.1798 - val_acc: 0.9937\n"
     ]
    }
   ],
   "source": [
    "# Neural network on Character Level Level TF IDF Vectors\n",
    "def make_model():\n",
    "    model = Sequential()\n",
    "    model.add(Dense(units=100, activation='relu', input_dim=xtrain_tfidf_ngram.shape[1]))\n",
    "    model.add(Dense(units=1, activation='sigmoid'))\n",
    "    model.add(Dropout(rate=0.30))\n",
    "    model.add(Dense(units=1, activation='sigmoid'))\n",
    "    return model\n",
    "\n",
    "model = make_model()\n",
    "model.compile(optimizer=optimizers.Adam(), loss='binary_crossentropy',\n",
    "              metrics=['accuracy'])\n",
    "\n",
    "history = model.fit(xtrain_tfidf_ngram_chars, train_y, epochs=10, verbose=2, batch_size=400, validation_data=(xvalid_tfidf_ngram_chars, valid_y))\n"
   ]
  },
  {
   "cell_type": "code",
   "execution_count": 134,
   "metadata": {},
   "outputs": [
    {
     "data": {
      "image/png": "[encoded data removed]",
      "text/plain": [
       "<Figure size 640x480 with 1 Axes>"
      ]
     },
     "metadata": {},
     "output_type": "display_data"
    }
   ],
   "source": [
    "#Accuracy vizualized to check for overfitting \n",
    "plt.plot(history.history['loss']);\n",
    "plt.plot(history.history['val_loss']);\n",
    "plt.legend(['training acc', 'validation acc']);\n",
    "plt.title('Loss')\n",
    "color=\"blue\""
   ]
  },
  {
   "cell_type": "code",
   "execution_count": 135,
   "metadata": {},
   "outputs": [
    {
     "data": {
      "text/plain": [
       "Text(0.5, 1.0, 'Accuracy')"
      ]
     },
     "execution_count": 135,
     "metadata": {},
     "output_type": "execute_result"
    },
    {
     "data": {
      "image/png": "[encoded data removed]",
      "text/plain": [
       "<Figure size 640x480 with 1 Axes>"
      ]
     },
     "metadata": {},
     "output_type": "display_data"
    }
   ],
   "source": [
    "#Loss vizualized to check for overfitting \n",
    "plt.plot(history.history['acc']);\n",
    "plt.plot(history.history['val_acc']);\n",
    "plt.legend(['training acc', 'validation acc']);\n",
    "plt.title('Accuracy')"
   ]
  },
  {
   "cell_type": "code",
   "execution_count": null,
   "metadata": {},
   "outputs": [],
   "source": []
  },
  {
   "cell_type": "code",
   "execution_count": null,
   "metadata": {},
   "outputs": [],
   "source": []
  }
 ],
 "metadata": {
  "kernelspec": {
   "display_name": "Python 3",
   "language": "python",
   "name": "python3"
  },
  "language_info": {
   "codemirror_mode": {
    "name": "ipython",
    "version": 3
   },
   "file_extension": ".py",
   "mimetype": "text/x-python",
   "name": "python",
   "nbconvert_exporter": "python",
   "pygments_lexer": "ipython3",
   "version": "3.7.3"
  }
 },
 "nbformat": 4,
 "nbformat_minor": 2
}
